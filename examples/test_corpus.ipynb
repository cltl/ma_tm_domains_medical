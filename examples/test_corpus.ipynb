{
 "cells": [
  {
   "cell_type": "markdown",
   "metadata": {},
   "source": [
    "First attempt at preprocessing a corpus of data. The planned steps and goal are as follows:\n",
    "\n",
    "1. Generate a random test corpus of $n$ documents with $\\mathcal{N}(\\mu,\\sigma)$ phrases of length $\\mathcal{N}(\\nu, \\tau)$.\n",
    "2. Process the corpus into sentences using a tokenizer (can be extended with other preprocessing).\n",
    "3. Design and test a data structure to store the processed data.\n",
    "4. Show a mock classification process using randomly generated features.\n",
    "\n",
    "Goal: Create a working data format that can represent the data, and is flexible and suitable for machine learning purposes."
   ]
  },
  {
   "cell_type": "code",
   "execution_count": 2,
   "metadata": {},
   "outputs": [
    {
     "name": "stderr",
     "output_type": "stream",
     "text": [
      "[nltk_data] Downloading package punkt to\n",
      "[nltk_data]     C:\\Users\\Tommy\\AppData\\Roaming\\nltk_data...\n",
      "[nltk_data]   Package punkt is already up-to-date!\n"
     ]
    }
   ],
   "source": [
    "import random\n",
    "from itertools import chain\n",
    "import numpy as np\n",
    "import pandas as pd\n",
    "import matplotlib.pyplot as plt\n",
    "from tabulate import tabulate\n",
    "import nltk.data\n",
    "from sklearn.metrics import confusion_matrix, precision_score, recall_score\n",
    "\n",
    "nltk.download('punkt')\n",
    "np.set_printoptions(precision=2)"
   ]
  },
  {
   "cell_type": "markdown",
   "metadata": {},
   "source": [
    "# 1 Generating a corpus to test with"
   ]
  },
  {
   "cell_type": "code",
   "execution_count": 3,
   "metadata": {},
   "outputs": [],
   "source": [
    "n = 10\n",
    "mu = 80; sigma = 25\n",
    "nu = 15; tau = 3"
   ]
  },
  {
   "cell_type": "code",
   "execution_count": 4,
   "metadata": {},
   "outputs": [
    {
     "name": "stdout",
     "output_type": "stream",
     "text": [
      "['aardvark', 'Aarhus', 'Aaron', 'ABA', 'Ababa', 'aback', 'abacus', 'abalone', 'abandon', 'abase']\n",
      "['zooplankton', 'Zorn', 'Zoroaster', 'Zoroastrian', 'zounds', \"z's\", 'zucchini', 'Zulu', 'Zurich', 'zygote']\n",
      "['Balkan', 'bicker', 'competition', 'aldehyde', 'papyri', 'Gettysburg', 'elephant', 'slippage', 'Skopje', 'Eli']\n"
     ]
    }
   ],
   "source": [
    "with open('test_words.txt') as f:\n",
    "    words = [x.strip() for x in f.readlines()]\n",
    "    \n",
    "print(words[:10])\n",
    "print(words[-10:])\n",
    "print(random.sample(words, 10))"
   ]
  },
  {
   "cell_type": "code",
   "execution_count": 5,
   "metadata": {},
   "outputs": [
    {
     "name": "stdout",
     "output_type": "stream",
     "text": [
      "Generated 10 documents of lengths [7568, 8043, 10237, 11036, 11790, 8357, 12760, 10241, 14248, 10660].\n",
      "Mean document length: 10494.0\n",
      "\n",
      "\n",
      "Example text:\n",
      "\n",
      "Julie Haas Linnaeus turnover, Seward union bereft boyar peephole drumlin circumcircle. Perle Pablo PBS dynamo causal reciprocal Atwater patroness satisfaction centrifugate mastic drastic downstairs sowbug expert capacity matriculate turnoff. Idyll Celt hillock surmise pencil frothy calorimeter hidden slugging adapt band insight lubricious radium. McDonnell paramagnetic ketchup half profession transposition Blythe Bette, teahouse Yucatan library humanitarian diagrammed dumbbell impost. Hydrocarbon stone concoct rhombus conscience sable burgess bleat mutt snipe longue Freya assumption Thailand wingspread. Poll, Sherlock praise tangerine Andes pyrophosphate Benedikt emendable hubcap trailhead. Mexican perpetrate Cornwall hairspring emblem McDougall seminal compulsory twit famous stearate minimax factorial naughty Pentecost acquaint deflater. Phosphorous glossary ionosphere otherwise Munson, tridiagonal Cassandra hexagonal polymeric informal rhizome. Toothache transceiver inhospitable rho ...\n"
     ]
    }
   ],
   "source": [
    "def make_sentence(strings):\n",
    "    if random.random() < 0.5:\n",
    "        strings = insert_comma(strings)\n",
    "        \n",
    "    sentence = ' '.join(strings) + '.'\n",
    "    return sentence[0].capitalize() + sentence[1:]\n",
    "\n",
    "\n",
    "def insert_comma(strings):\n",
    "    pos = random.randint(0, len(strings)-2)\n",
    "    return [s + ',' if i == pos else s for i, s in enumerate(strings[:-1])]\n",
    "\n",
    "\n",
    "corpus = [' '.join([make_sentence(random.sample(words, int(random.gauss(nu, tau))))\n",
    "                    for _ in range(int(random.gauss(mu, sigma)))])\n",
    "                    for _ in range(n)]\n",
    "    \n",
    "print('Generated {} documents of lengths {}.'.format(len(corpus), [len(d) for d in corpus]))\n",
    "print('Mean document length: {}\\n\\n'.format(sum([len(d) for d in corpus])/n)) \n",
    "\n",
    "print('Example text:\\n')\n",
    "print(corpus[0][:1000] + '...')"
   ]
  },
  {
   "cell_type": "markdown",
   "metadata": {},
   "source": [
    "# 2 Preprocessing "
   ]
  },
  {
   "cell_type": "markdown",
   "metadata": {},
   "source": [
    "Creating sentences is easy enough with a pre-trained tokenizer."
   ]
  },
  {
   "cell_type": "code",
   "execution_count": 6,
   "metadata": {},
   "outputs": [],
   "source": [
    "sent_detector = nltk.data.load('tokenizers/punkt/english.pickle')\n",
    "data = sent_detector.tokenize_sents(corpus)"
   ]
  },
  {
   "cell_type": "markdown",
   "metadata": {},
   "source": [
    "# 3 Indexing the data"
   ]
  },
  {
   "cell_type": "markdown",
   "metadata": {},
   "source": [
    "The sentences are stored as a column in a pandas DataFrame. The index contains a level describing which document the sentence is from, and a level giving the sentence level. The DataFrame can be extended with columns describing features, otherwise extracted or processed information, or can broadcast to other DataFrames if a different coding is preferable.\n",
    "\n",
    "<i>If you've never used a MultiIndex DataFrame before, the [docs](https://pandas.pydata.org/pandas-docs/stable/user_guide/advanced.html) give a good introduction to the concept.</i> "
   ]
  },
  {
   "cell_type": "code",
   "execution_count": 7,
   "metadata": {},
   "outputs": [
    {
     "name": "stdout",
     "output_type": "stream",
     "text": [
      "[(0, 0), (0, 1), (0, 2), (9, 89), (9, 90), (9, 91)] \n",
      "\n",
      "MultiIndex([(0,  0),\n",
      "            (0,  1),\n",
      "            (0,  2),\n",
      "            (0,  3),\n",
      "            (0,  4),\n",
      "            (0,  5),\n",
      "            (0,  6),\n",
      "            (0,  7),\n",
      "            (0,  8),\n",
      "            (0,  9),\n",
      "            ...\n",
      "            (9, 82),\n",
      "            (9, 83),\n",
      "            (9, 84),\n",
      "            (9, 85),\n",
      "            (9, 86),\n",
      "            (9, 87),\n",
      "            (9, 88),\n",
      "            (9, 89),\n",
      "            (9, 90),\n",
      "            (9, 91)],\n",
      "           names=['Document', 'Sentence'], length=898) \n",
      "\n",
      "                                                                Text\n",
      "Document Sentence                                                   \n",
      "0        0         Julie Haas Linnaeus turnover, Seward union ber...\n",
      "         1         Perle Pablo PBS dynamo causal reciprocal Atwat...\n",
      "         2         Idyll Celt hillock surmise pencil frothy calor...\n",
      "         3         McDonnell paramagnetic ketchup half profession...\n",
      "         4         Hydrocarbon stone concoct rhombus conscience s...\n",
      "...                                                              ...\n",
      "9        87        Antic terrific giddap horsefly prom, Boise esp...\n",
      "         88        Recovery jugate fireboat Calder mercenary Pare...\n",
      "         89        Immanent phosphorous walkie, Hercules glacial ...\n",
      "         90        Peril knit precise magnum octet firewood bulbo...\n",
      "         91        Herbert mitosis, leek airfare illegitimate wri...\n",
      "\n",
      "[898 rows x 1 columns] \n",
      "\n"
     ]
    }
   ],
   "source": [
    "def c(x):\n",
    "    return list(chain.from_iterable(x))\n",
    "\n",
    "indices = c([[(j,i)  \n",
    "            for i, _ in enumerate(data[j])]      \n",
    "            for j, _ in enumerate(data)])\n",
    "\n",
    "index = pd.MultiIndex.from_tuples(indices, names=['Document', 'Sentence'])\n",
    "\n",
    "df = pd.DataFrame(c(data), index=index, columns=['Text'])\n",
    "\n",
    "print(indices[:3] + indices[-3:], '\\n')\n",
    "print(index, '\\n')\n",
    "print(df, '\\n')"
   ]
  },
  {
   "cell_type": "markdown",
   "metadata": {},
   "source": [
    "let's generate some random data to populate the columns."
   ]
  },
  {
   "cell_type": "code",
   "execution_count": 8,
   "metadata": {
    "scrolled": true
   },
   "outputs": [
    {
     "name": "stdout",
     "output_type": "stream",
     "text": [
      "                                                                Text  \\\n",
      "Document Sentence                                                      \n",
      "0        0         Julie Haas Linnaeus turnover, Seward union ber...   \n",
      "         1         Perle Pablo PBS dynamo causal reciprocal Atwat...   \n",
      "         2         Idyll Celt hillock surmise pencil frothy calor...   \n",
      "         3         McDonnell paramagnetic ketchup half profession...   \n",
      "         4         Hydrocarbon stone concoct rhombus conscience s...   \n",
      "...                                                              ...   \n",
      "9        87        Antic terrific giddap horsefly prom, Boise esp...   \n",
      "         88        Recovery jugate fireboat Calder mercenary Pare...   \n",
      "         89        Immanent phosphorous walkie, Hercules glacial ...   \n",
      "         90        Peril knit precise magnum octet firewood bulbo...   \n",
      "         91        Herbert mitosis, leek airfare illegitimate wri...   \n",
      "\n",
      "                     Stat 1    Stat 2    Stat 3    Stat 4  Count Category  \n",
      "Document Sentence                                                          \n",
      "0        0        -0.944121  0.799566  0.467425  0.699152      5        C  \n",
      "         1         0.042004 -0.001623 -0.305925 -0.116559      1        B  \n",
      "         2        -0.446500  0.364293  0.656175  0.712449      8        A  \n",
      "         3        -0.571381  0.235083 -0.571585 -0.237094      0        A  \n",
      "         4        -0.010380 -0.116694 -0.699712  0.423626      9        A  \n",
      "...                     ...       ...       ...       ...    ...      ...  \n",
      "9        87        0.470270 -0.698714 -0.055326 -0.391086      4        C  \n",
      "         88       -0.427952  0.752293  0.018893 -0.429666      7        B  \n",
      "         89        0.243472 -0.055134 -0.264370 -0.606058      8        C  \n",
      "         90       -0.488638  0.171383 -0.388940 -0.895772      9        D  \n",
      "         91        0.874563  0.669624  0.550720 -0.016763      3        D  \n",
      "\n",
      "[898 rows x 7 columns]\n"
     ]
    }
   ],
   "source": [
    "df['Stat 1'] = [random.random() * 2 - 1 for _ in df.T]\n",
    "\n",
    "x = pd.DataFrame([[random.random() * 2 - 1 for _ in range(3)] for _ in df.T], \\\n",
    "                             columns=['Stat {}'.format(i) for i in range(2,5)])\n",
    "\n",
    "df = pd.concat([df,\n",
    "                x.set_index(df.index)],\n",
    "                axis=1)\n",
    "\n",
    "df['Count'] = [random.randint(0,10) for _ in df.T]\n",
    "df['Category'] = [random.choice(['A', 'B', 'C', 'D']) for _ in df.T]\n",
    "\n",
    "print(df)"
   ]
  },
  {
   "cell_type": "markdown",
   "metadata": {},
   "source": [
    "Some examples of sorting and slicing operations that can be done."
   ]
  },
  {
   "cell_type": "code",
   "execution_count": 9,
   "metadata": {
    "scrolled": true
   },
   "outputs": [
    {
     "name": "stdout",
     "output_type": "stream",
     "text": [
      "\n",
      "Sorted alphabetically:                                                                  Text  \\\n",
      "Document Sentence                                                      \n",
      "6        20        Aback rectify Norway combinatoric proverb hero...   \n",
      "         61        Abdomen margin highball Frenchmen curtain expl...   \n",
      "         96        Aberdeen Avernus tag menial duffel calve lacus...   \n",
      "2        12        Aboriginal cartilage einsteinium philharmonic ...   \n",
      "7        29        Above pomegranate ignoramus meticulous medic a...   \n",
      "...                                                              ...   \n",
      "8        111       Yellowknife equidistant schoolmaster Geminid K...   \n",
      "         67        Yesterday Lamar Mary hasty filth riot kidnap C...   \n",
      "6        77        Yokuts Smythe Promethean acerbic Hades raise b...   \n",
      "8        88        Zagreb samurai yarmulke Chinook pout Marceau i...   \n",
      "2        63        Zambia ambiguity axe magnum Lopez gist thresh ...   \n",
      "\n",
      "                     Stat 1    Stat 2    Stat 3    Stat 4  Count Category  \n",
      "Document Sentence                                                          \n",
      "6        20       -0.064321  0.875950  0.997400 -0.683477      3        D  \n",
      "         61       -0.315671  0.131076  0.458650 -0.402971      4        C  \n",
      "         96       -0.781783 -0.800447  0.118843 -0.974736      9        B  \n",
      "2        12        0.959750 -0.161743 -0.034182 -0.699631      7        B  \n",
      "7        29       -0.498346 -0.911349  0.912080 -0.767607     10        D  \n",
      "...                     ...       ...       ...       ...    ...      ...  \n",
      "8        111      -0.877320  0.801459  0.906608  0.146083      5        D  \n",
      "         67        0.887227 -0.137326  0.708071  0.114646      1        C  \n",
      "6        77       -0.415054 -0.318592  0.140560  0.115666      7        A  \n",
      "8        88       -0.613064 -0.175828 -0.819146  0.653702      1        A  \n",
      "2        63        0.671706 -0.041951  0.291175 -0.431144      2        B  \n",
      "\n",
      "[898 rows x 7 columns]\n",
      "\n",
      "Sorted by sentence number:                                                                  Text  \\\n",
      "Document Sentence                                                      \n",
      "6        0         Aviatrix tape acuity promise lawrencium humoro...   \n",
      "7        0         Arc excite chartreuse emblematic orgiastic con...   \n",
      "9        0         Anthropomorphic pentecostal reverend jaguar ge...   \n",
      "4        0         Dour, Islam pulsate referent corbel colorimete...   \n",
      "0        0         Julie Haas Linnaeus turnover, Seward union ber...   \n",
      "...                                                              ...   \n",
      "8        121       Precipitable mill deep fern invoke cadre cowma...   \n",
      "         122       Buxton hindsight, atheism headwall acacia Squi...   \n",
      "         123       Brakemen salesgirl clap ohmic, repugnant swim ...   \n",
      "         124       Portend oblivion Erato, transonic clod summit ...   \n",
      "         125       Fuzzy attach bayou Saturday cylinder Eulerian ...   \n",
      "\n",
      "                     Stat 1    Stat 2    Stat 3    Stat 4  Count Category  \n",
      "Document Sentence                                                          \n",
      "6        0        -0.287616  0.867844 -0.623214 -0.981417      4        A  \n",
      "7        0        -0.097720 -0.349984 -0.537965 -0.601916      7        A  \n",
      "9        0        -0.685248 -0.666562  0.343648 -0.895473      9        A  \n",
      "4        0         0.488840  0.556569  0.126087  0.665425      9        A  \n",
      "0        0        -0.944121  0.799566  0.467425  0.699152      5        C  \n",
      "...                     ...       ...       ...       ...    ...      ...  \n",
      "8        121      -0.590287 -0.708807 -0.593366  0.298315      8        A  \n",
      "         122       0.346435 -0.866604 -0.850194 -0.040733      8        A  \n",
      "         123       0.733589  0.770353  0.226252 -0.146538      0        B  \n",
      "         124       0.552435  0.840239 -0.869805 -0.955199     10        C  \n",
      "         125       0.650358  0.503948  0.055708  0.741788      3        A  \n",
      "\n",
      "[898 rows x 7 columns]\n",
      "\n",
      " Sorted by string length:                                                                  Text  \\\n",
      "Document Sentence                                                      \n",
      "1        40                    Left isle, Samoa blonde wave radiant.   \n",
      "         5              Slovenia mind, apatite elegant passband dud.   \n",
      "         41          Gateway embalm junior annulus Lockwood blithe,.   \n",
      "2        0          Loath Olsen exquisite populism salesmen company.   \n",
      "         45        Operate retiree cortege Florentine Ezekiel Pir...   \n",
      "...                                                              ...   \n",
      "7        39        Clientele backstop emigrant Martian Avogadro c...   \n",
      "4        79        Expurgate chat chest argument sympathetic doct...   \n",
      "0        55        Audacity sod symposium snack Slavic Greensboro...   \n",
      "3        28        Grimace estrus handle finitude skyward chickpe...   \n",
      "9        67        Trencherman Levi etch seething monument McMaho...   \n",
      "\n",
      "                     Stat 1    Stat 2    Stat 3    Stat 4  Count Category  \n",
      "Document Sentence                                                          \n",
      "1        40       -0.949436  0.058225 -0.623510  0.345666      3        D  \n",
      "         5         0.309774 -0.920617 -0.479339 -0.735203      1        B  \n",
      "         41       -0.899941 -0.268885  0.797291 -0.406840      3        C  \n",
      "2        0         0.461388 -0.845289  0.020797 -0.002098      7        B  \n",
      "         45       -0.515271 -0.601537  0.474938  0.017702      2        C  \n",
      "...                     ...       ...       ...       ...    ...      ...  \n",
      "7        39        0.318615  0.422208 -0.983627  0.180598      5        A  \n",
      "4        79       -0.411694 -0.524952  0.309286  0.857825      6        A  \n",
      "0        55        0.172949  0.311395  0.158601 -0.097198      6        A  \n",
      "3        28       -0.769517 -0.420849  0.715345 -0.294996      6        B  \n",
      "9        67        0.005909  0.634302  0.357684 -0.414769      5        A  \n",
      "\n",
      "[898 rows x 7 columns]\n",
      "\n",
      "Resorted by index:                                                                  Text  \\\n",
      "Document Sentence                                                      \n",
      "0        0         Julie Haas Linnaeus turnover, Seward union ber...   \n",
      "         1         Perle Pablo PBS dynamo causal reciprocal Atwat...   \n",
      "         2         Idyll Celt hillock surmise pencil frothy calor...   \n",
      "         3         McDonnell paramagnetic ketchup half profession...   \n",
      "         4         Hydrocarbon stone concoct rhombus conscience s...   \n",
      "...                                                              ...   \n",
      "9        87        Antic terrific giddap horsefly prom, Boise esp...   \n",
      "         88        Recovery jugate fireboat Calder mercenary Pare...   \n",
      "         89        Immanent phosphorous walkie, Hercules glacial ...   \n",
      "         90        Peril knit precise magnum octet firewood bulbo...   \n",
      "         91        Herbert mitosis, leek airfare illegitimate wri...   \n",
      "\n",
      "                     Stat 1    Stat 2    Stat 3    Stat 4  Count Category  \n",
      "Document Sentence                                                          \n",
      "0        0        -0.944121  0.799566  0.467425  0.699152      5        C  \n",
      "         1         0.042004 -0.001623 -0.305925 -0.116559      1        B  \n",
      "         2        -0.446500  0.364293  0.656175  0.712449      8        A  \n",
      "         3        -0.571381  0.235083 -0.571585 -0.237094      0        A  \n",
      "         4        -0.010380 -0.116694 -0.699712  0.423626      9        A  \n",
      "...                     ...       ...       ...       ...    ...      ...  \n",
      "9        87        0.470270 -0.698714 -0.055326 -0.391086      4        C  \n",
      "         88       -0.427952  0.752293  0.018893 -0.429666      7        B  \n",
      "         89        0.243472 -0.055134 -0.264370 -0.606058      8        C  \n",
      "         90       -0.488638  0.171383 -0.388940 -0.895772      9        D  \n",
      "         91        0.874563  0.669624  0.550720 -0.016763      3        D  \n",
      "\n",
      "[898 rows x 7 columns]\n",
      "\n",
      "First sentence of each document (index removed): \n",
      " Document\n",
      "0    Julie Haas Linnaeus turnover, Seward union ber...\n",
      "1    Dissociate madden Martian coat terminable exte...\n",
      "2     Loath Olsen exquisite populism salesmen company.\n",
      "3    Dominican beatitude diocesan this'll Malraux a...\n",
      "4    Dour, Islam pulsate referent corbel colorimete...\n",
      "5    Final k's aspidistra axolotl Thorstein adposit...\n",
      "6    Aviatrix tape acuity promise lawrencium humoro...\n",
      "7    Arc excite chartreuse emblematic orgiastic con...\n",
      "8    Pneumococcus threonine Aesop wakeful scrumptio...\n",
      "9    Anthropomorphic pentecostal reverend jaguar ge...\n",
      "Name: Text, dtype: object\n",
      "\n",
      "Last sentence of each document: \n",
      " Document  Sentence\n",
      "0         63          Savagery steal paint storyteller standstill An...\n",
      "1         68          Obsolete upcome k follicular Rutgers preferenc...\n",
      "2         89          Coterie circumpolar calculi Viking Apollo dime...\n",
      "3         92          Implicit hi shill asphyxiate alimentary calumn...\n",
      "4         100         Xylem chatty iconoclasm mouthpart rutabaga lum...\n",
      "5         69          Shrubbery askew Tiber permutation Hans experti...\n",
      "6         106         Fractionate along thoughtful fecund saloon e'e...\n",
      "7         85          Handlebar duckling pawnshop gallinule wolve et...\n",
      "8         125         Fuzzy attach bayou Saturday cylinder Eulerian ...\n",
      "9         91          Herbert mitosis, leek airfare illegitimate wri...\n",
      "Name: Text, dtype: object\n",
      "\n",
      "First three sentences of each document: \n",
      " Document  Sentence\n",
      "0         0           Julie Haas Linnaeus turnover, Seward union ber...\n",
      "          1           Perle Pablo PBS dynamo causal reciprocal Atwat...\n",
      "          2           Idyll Celt hillock surmise pencil frothy calor...\n",
      "          3           McDonnell paramagnetic ketchup half profession...\n",
      "          4           Hydrocarbon stone concoct rhombus conscience s...\n",
      "                                            ...                        \n",
      "9         87          Antic terrific giddap horsefly prom, Boise esp...\n",
      "          88          Recovery jugate fireboat Calder mercenary Pare...\n",
      "          89          Immanent phosphorous walkie, Hercules glacial ...\n",
      "          90          Peril knit precise magnum octet firewood bulbo...\n",
      "          91          Herbert mitosis, leek airfare illegitimate wri...\n",
      "Name: Text, Length: 898, dtype: object\n",
      "\n",
      "Stats on a random document: \n",
      "           Stat 1     Stat 2     Stat 3     Stat 4      Count\n",
      "count  93.000000  93.000000  93.000000  93.000000  93.000000\n",
      "mean   -0.002955  -0.056209   0.015425  -0.008655   5.129032\n",
      "std     0.600039   0.567878   0.560437   0.550551   3.142368\n",
      "min    -0.990680  -0.997969  -0.988030  -0.989969   0.000000\n",
      "25%    -0.466052  -0.486735  -0.452487  -0.424874   3.000000\n",
      "50%    -0.024598  -0.055464   0.046865  -0.016132   5.000000\n",
      "75%     0.521469   0.419446   0.475676   0.472517   8.000000\n",
      "max     0.976253   0.983302   0.991402   0.964715  10.000000\n",
      "\n",
      " Columns 'Stat 1' and 'Stat 2' of Document 3: \n",
      "                      Stat 1    Stat 2\n",
      "Document Sentence                    \n",
      "3        0         0.540227 -0.243815\n",
      "         1         0.798679 -0.521173\n",
      "         2        -0.023404 -0.117211\n",
      "         3         0.296852 -0.209666\n",
      "         4        -0.309681  0.744878\n",
      "...                     ...       ...\n",
      "         88        0.092052  0.530444\n",
      "         89        0.503399  0.059076\n",
      "         90        0.012377  0.238750\n",
      "         91        0.246661 -0.203043\n",
      "         92       -0.316320  0.503370\n",
      "\n",
      "[93 rows x 2 columns]\n"
     ]
    }
   ],
   "source": [
    "# Scrambling and resorting the DF\n",
    "df = df.sort_values('Text')\n",
    "print('\\nSorted alphabetically: ', df)\n",
    "\n",
    "df = df.sort_values('Sentence')\n",
    "print('\\nSorted by sentence number: ', df)\n",
    "\n",
    "df = df.loc[df['Text'].str.len().sort_values().index]\n",
    "print('\\n Sorted by string length: ', df)\n",
    "\n",
    "df = df.sort_values(['Document', 'Sentence'])\n",
    "print('\\nResorted by index: ', df)\n",
    "\n",
    "print('\\nFirst sentence of each document (index removed): \\n', \n",
    "      df['Text'].xs(0, level='Sentence')) # use drop=False to retain the 'Sentence' index column\n",
    "\n",
    "print('\\nLast sentence of each document: \\n',\n",
    "      df['Text'].groupby('Document').tail(1))\n",
    "\n",
    "print('\\nFirst three sentences of each document: \\n',\n",
    "      df['Text'].loc[(slice(None), slice(0,3)), :])\n",
    "\n",
    "print('\\nStats on a random document: \\n',\n",
    "     df.xs(random.randint(0,df.index.levshape[0]-1), level='Document').describe())\n",
    "\n",
    "print(\"\\n Columns 'Stat 1' and 'Stat 2' of Document 3: \\n\",\n",
    "     df.loc[(slice(3,3), slice(None)), ['Stat 1', 'Stat 2']]) # retain the index\n",
    "#      df.loc[(3, slice(None))][['Stat 1', 'Stat 2']]) # or not \n",
    "#      df.xs(3, level='Document', drop=False)[['Stat 1', 'Stat 2']]) # or specify with drop=False"
   ]
  },
  {
   "cell_type": "markdown",
   "metadata": {},
   "source": [
    "# 4 Mock classification"
   ]
  },
  {
   "cell_type": "markdown",
   "metadata": {},
   "source": [
    "A simple classification label can be assigned by calculating the sum of the columns and assigning a label based on if the value is positive or negative. "
   ]
  },
  {
   "cell_type": "code",
   "execution_count": 64,
   "metadata": {
    "scrolled": true
   },
   "outputs": [
    {
     "name": "stdout",
     "output_type": "stream",
     "text": [
      "0.011995792388916016\n",
      "0.011999368667602539\n",
      "0.012001752853393555\n",
      "0.011998176574707031\n",
      "0.012000799179077148\n",
      "0.011999845504760742\n",
      "0.01199960708618164\n",
      "0.012000560760498047\n",
      "0.011998414993286133\n",
      "0.012001276016235352\n"
     ]
    }
   ],
   "source": [
    "import time\n",
    "import random\n",
    "\n",
    "for i in range(10):\n",
    "    start_time = time.time()\n",
    "    [random.randrange(10**8,10**9) for _ in range(10000)]\n",
    "    print(time.time()-start_time)\n",
    "    "
   ]
  },
  {
   "cell_type": "markdown",
   "metadata": {},
   "source": [
    "## Generating labels"
   ]
  },
  {
   "cell_type": "markdown",
   "metadata": {},
   "source": [
    "Only a single label is assigned here, but can easily be extended to multiple labels per instance."
   ]
  },
  {
   "cell_type": "code",
   "execution_count": 9,
   "metadata": {},
   "outputs": [],
   "source": [
    "def mock_classification(df, labels):\n",
    "    \n",
    "    features = ['Stat {}'.format(i) for i in range(1,5)]\n",
    "    \n",
    "    df['Stat Sum'] = df[features].sum(axis=1)\n",
    "    df['Max Stat'] = df[features].idxmax(axis=1)\n",
    "\n",
    "    df['Assigned Label'] = df['Max Stat'].map(labels).where(df['Stat Sum'] > 1).fillna('Unlabeled')\n",
    "\n",
    "    return df"
   ]
  },
  {
   "cell_type": "code",
   "execution_count": 10,
   "metadata": {},
   "outputs": [],
   "source": [
    "labels = {\n",
    "    'Stat 1': 'P',\n",
    "    'Stat 2': 'I',\n",
    "    'Stat 3': 'C',\n",
    "    'Stat 4': 'O',\n",
    "    'Other value': 'Unlabeled'\n",
    "}\n",
    "\n",
    "df['True Label'] = random.choices(list(labels.values()), \n",
    "                                  weights=[0.05]*4 + [0.8], k=len(df))\n",
    "df = mock_classification(df, labels)\n",
    "\n",
    "df.to_csv('test_corpus_data.csv')"
   ]
  },
  {
   "cell_type": "markdown",
   "metadata": {},
   "source": [
    "## Generating results"
   ]
  },
  {
   "cell_type": "markdown",
   "metadata": {},
   "source": [
    "Lastly, plot the results and generate a confusion matrix and average P/R metrics over the classification. These metrics are more complicated for multi-label problems (if multiple P, I etc. can be assigned), but I won't explore that further here."
   ]
  },
  {
   "cell_type": "code",
   "execution_count": 11,
   "metadata": {},
   "outputs": [
    {
     "name": "stdout",
     "output_type": "stream",
     "text": [
      "80.0% of instances were labeled.\n",
      "+----------------+-----+-----+-----+-----+-------------+\n",
      "|                |   P |   I |   C |   O |   Unlabeled |\n",
      "|----------------+-----+-----+-----+-----+-------------|\n",
      "| Assigned Label |  34 |  41 |  34 |  53 |         629 |\n",
      "| True Label     |  43 |  48 |  41 |  40 |         619 |\n",
      "+----------------+-----+-----+-----+-----+-------------+\n"
     ]
    },
    {
     "data": {
      "image/png": "[encoded data removed]",
      "text/plain": [
       "<Figure size 432x288 with 1 Axes>"
      ]
     },
     "metadata": {
      "needs_background": "light"
     },
     "output_type": "display_data"
    },
    {
     "data": {
      "image/png": "[encoded data removed]",
      "text/plain": [
       "<Figure size 432x288 with 1 Axes>"
      ]
     },
     "metadata": {
      "needs_background": "light"
     },
     "output_type": "display_data"
    },
    {
     "data": {
      "image/png": "[encoded data removed]",
      "text/plain": [
       "<Figure size 432x288 with 1 Axes>"
      ]
     },
     "metadata": {
      "needs_background": "light"
     },
     "output_type": "display_data"
    }
   ],
   "source": [
    "counts = pd.DataFrame(df['Assigned Label'].value_counts()) \\\n",
    "           .join(df['True Label'].value_counts()).fillna(0).T[labels.values()]\n",
    "\n",
    "print('{}% of instances were labeled.'\n",
    "      .format(round(100*counts['Unlabeled']['Assigned Label'] / counts.T['Assigned Label'].sum())))\n",
    "\n",
    "print(tabulate(counts, headers='keys', tablefmt='psql'))\n",
    "\n",
    "counts.T.plot.bar()\n",
    "counts.drop('Unlabeled',axis=1).T.plot.bar()\n",
    "counts.drop('Unlabeled', axis=1).plot.bar()\n",
    "\n",
    "plt.show()"
   ]
  },
  {
   "cell_type": "code",
   "execution_count": 12,
   "metadata": {
    "scrolled": false
   },
   "outputs": [
    {
     "name": "stdout",
     "output_type": "stream",
     "text": [
      "+-----------------+-----+-----+-----+-----+-------------+\n",
      "| Assigned/True   |   P |   I |   C |   O |   Unlabeled |\n",
      "|-----------------+-----+-----+-----+-----+-------------|\n",
      "| P               |   4 |   0 |   4 |   4 |          29 |\n",
      "| I               |   0 |   1 |   2 |   1 |          44 |\n",
      "| C               |   0 |   3 |   0 |   3 |          34 |\n",
      "| O               |   0 |   1 |   1 |   2 |          39 |\n",
      "| Unlabeled       |  30 |  36 |  46 |  24 |         483 |\n",
      "+-----------------+-----+-----+-----+-----+-------------+\n",
      "\n",
      "Average precision: \n",
      " 0.1937492729458296\n",
      "\n",
      "Average recall: \n",
      " 0.18903934568988398\n"
     ]
    }
   ],
   "source": [
    "results = [df['True Label'], df['Assigned Label']]\n",
    "\n",
    "cm = confusion_matrix(*results)\n",
    "cm_tab = pd.DataFrame(cm, columns=labels.values(), index=labels.values())\n",
    "\n",
    "h = ['Assigned/True'] + cm_tab.columns.tolist()\n",
    "print(tabulate(cm_tab, headers=h, tablefmt= 'psql'))\n",
    "\n",
    "print(\"\\nAverage precision: \\n\",\n",
    "      precision_score(df['True Label'], df['Assigned Label'], average=\"macro\"))\n",
    "\n",
    "print(\"\\nAverage recall: \\n\",\n",
    "      recall_score(df['True Label'], df['Assigned Label'], average=\"macro\"))\n",
    "\n",
    "# mcm = multiclass_confusion_matrix(*results) # more complicated for the multi-label case."
   ]
  },
  {
   "cell_type": "markdown",
   "metadata": {},
   "source": [
    "# Other resources found on the way\n",
    "\n",
    "https://www.tutorialspoint.com/opennlp/opennlp_tokenization.htm"
   ]
  },
  {
   "cell_type": "markdown",
   "metadata": {},
   "source": [
    "https://scikit-learn.org/stable/modules/generated/sklearn.metrics.multilabel_confusion_matrix.html#sklearn.metrics.multilabel_confusion_matrix"
   ]
  }
 ],
 "metadata": {
  "kernelspec": {
   "display_name": "Python 3",
   "language": "python",
   "name": "python3"
  },
  "language_info": {
   "codemirror_mode": {
    "name": "ipython",
    "version": 3
   },
   "file_extension": ".py",
   "mimetype": "text/x-python",
   "name": "python",
   "nbconvert_exporter": "python",
   "pygments_lexer": "ipython3",
   "version": "3.7.3"
  }
 },
 "nbformat": 4,
 "nbformat_minor": 2
}
