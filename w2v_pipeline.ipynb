{
 "cells": [
  {
   "cell_type": "code",
   "execution_count": 2,
   "metadata": {},
   "outputs": [],
   "source": [
    "import pandas as pd"
   ]
  },
  {
   "cell_type": "code",
   "execution_count": 6,
   "metadata": {},
   "outputs": [],
   "source": [
    "DATA_PKL = 'data/raw.pkl'\n",
    "PIO = ['participants','interventions','outcomes']"
   ]
  },
  {
   "cell_type": "markdown",
   "metadata": {
    "hideOutput": true
   },
   "source": [
    "- do some more processing on Words.\n",
    "- how to handle labels? Probably can't remove words, do we replace .,( etc. using regex?\n",
    "- how to handle sentence breaks? Should periods etc be included as tokens?"
   ]
  },
  {
   "cell_type": "code",
   "execution_count": 4,
   "metadata": {},
   "outputs": [
    {
     "name": "stdout",
     "output_type": "stream",
     "text": [
      "<class 'str'>\n"
     ]
    }
   ],
   "source": [
    "df = pd.read_pickle(DATA_PKL)\n",
    "\n",
    "print(type(df.loc[('10036953',0),'interventions']))\n",
    "\n",
    "# don't call .sum() or something on the full df, it takes forever."
   ]
  },
  {
   "cell_type": "code",
   "execution_count": 8,
   "metadata": {},
   "outputs": [],
   "source": [
    "# extra preprocessing stuff to be added to main in preprocessing.py.\n",
    "for cat in PIO:\n",
    "    df[cat] = df[cat].apply(int)"
   ]
  },
  {
   "cell_type": "code",
   "execution_count": 9,
   "metadata": {
    "scrolled": true
   },
   "outputs": [
    {
     "name": "stdout",
     "output_type": "stream",
     "text": [
      "                    Word  interventions  outcomes  participants\n",
      "doc      idx                                                   \n",
      "10036953 0             [              0         0             0\n",
      "         1        Triple              0         0             0\n",
      "         2       therapy              0         0             0\n",
      "         3      regimens              0         0             0\n",
      "         4     involving              0         0             0\n",
      "...                  ...            ...       ...           ...\n",
      "9989713  289  randomised              0         0             0\n",
      "         290           ,              0         0             0\n",
      "         291    clinical              0         0             0\n",
      "         292      trials              0         0             0\n",
      "         293           .              0         0             0\n",
      "\n",
      "[1354239 rows x 4 columns]\n"
     ]
    },
    {
     "data": {
      "text/html": [
       "<div>\n",
       "<style scoped>\n",
       "    .dataframe tbody tr th:only-of-type {\n",
       "        vertical-align: middle;\n",
       "    }\n",
       "\n",
       "    .dataframe tbody tr th {\n",
       "        vertical-align: top;\n",
       "    }\n",
       "\n",
       "    .dataframe thead th {\n",
       "        text-align: right;\n",
       "    }\n",
       "</style>\n",
       "<table border=\"1\" class=\"dataframe\">\n",
       "  <thead>\n",
       "    <tr style=\"text-align: right;\">\n",
       "      <th></th>\n",
       "      <th></th>\n",
       "      <th>Word</th>\n",
       "      <th>interventions</th>\n",
       "      <th>outcomes</th>\n",
       "      <th>participants</th>\n",
       "    </tr>\n",
       "    <tr>\n",
       "      <th>doc</th>\n",
       "      <th>idx</th>\n",
       "      <th></th>\n",
       "      <th></th>\n",
       "      <th></th>\n",
       "      <th></th>\n",
       "    </tr>\n",
       "  </thead>\n",
       "  <tbody>\n",
       "    <tr>\n",
       "      <th rowspan=\"5\" valign=\"top\">10070173</th>\n",
       "      <th>0</th>\n",
       "      <td>Comparison</td>\n",
       "      <td>0</td>\n",
       "      <td>0</td>\n",
       "      <td>0</td>\n",
       "    </tr>\n",
       "    <tr>\n",
       "      <th>1</th>\n",
       "      <td>of</td>\n",
       "      <td>0</td>\n",
       "      <td>0</td>\n",
       "      <td>0</td>\n",
       "    </tr>\n",
       "    <tr>\n",
       "      <th>2</th>\n",
       "      <td>budesonide</td>\n",
       "      <td>1</td>\n",
       "      <td>0</td>\n",
       "      <td>0</td>\n",
       "    </tr>\n",
       "    <tr>\n",
       "      <th>3</th>\n",
       "      <td>Turbuhaler</td>\n",
       "      <td>1</td>\n",
       "      <td>0</td>\n",
       "      <td>0</td>\n",
       "    </tr>\n",
       "    <tr>\n",
       "      <th>4</th>\n",
       "      <td>with</td>\n",
       "      <td>1</td>\n",
       "      <td>0</td>\n",
       "      <td>0</td>\n",
       "    </tr>\n",
       "    <tr>\n",
       "      <th>...</th>\n",
       "      <th>...</th>\n",
       "      <td>...</td>\n",
       "      <td>...</td>\n",
       "      <td>...</td>\n",
       "      <td>...</td>\n",
       "    </tr>\n",
       "    <tr>\n",
       "      <th rowspan=\"5\" valign=\"top\">9745404</th>\n",
       "      <th>553</th>\n",
       "      <td>of</td>\n",
       "      <td>0</td>\n",
       "      <td>0</td>\n",
       "      <td>0</td>\n",
       "    </tr>\n",
       "    <tr>\n",
       "      <th>554</th>\n",
       "      <td>protracted</td>\n",
       "      <td>0</td>\n",
       "      <td>0</td>\n",
       "      <td>0</td>\n",
       "    </tr>\n",
       "    <tr>\n",
       "      <th>555</th>\n",
       "      <td>critical</td>\n",
       "      <td>0</td>\n",
       "      <td>0</td>\n",
       "      <td>0</td>\n",
       "    </tr>\n",
       "    <tr>\n",
       "      <th>556</th>\n",
       "      <td>illness</td>\n",
       "      <td>0</td>\n",
       "      <td>0</td>\n",
       "      <td>0</td>\n",
       "    </tr>\n",
       "    <tr>\n",
       "      <th>557</th>\n",
       "      <td>.</td>\n",
       "      <td>0</td>\n",
       "      <td>0</td>\n",
       "      <td>0</td>\n",
       "    </tr>\n",
       "  </tbody>\n",
       "</table>\n",
       "<p>30608 rows × 4 columns</p>\n",
       "</div>"
      ],
      "text/plain": [
       "                    Word  interventions  outcomes  participants\n",
       "doc      idx                                                   \n",
       "10070173 0    Comparison              0         0             0\n",
       "         1            of              0         0             0\n",
       "         2    budesonide              1         0             0\n",
       "         3    Turbuhaler              1         0             0\n",
       "         4          with              1         0             0\n",
       "...                  ...            ...       ...           ...\n",
       "9745404  553          of              0         0             0\n",
       "         554  protracted              0         0             0\n",
       "         555    critical              0         0             0\n",
       "         556     illness              0         0             0\n",
       "         557           .              0         0             0\n",
       "\n",
       "[30608 rows x 4 columns]"
      ]
     },
     "execution_count": 9,
     "metadata": {},
     "output_type": "execute_result"
    }
   ],
   "source": [
    "# downsampling \n",
    "print(df)\n",
    "dsmp_idx = df.reset_index()['doc'].sample(100)\n",
    "\n",
    "df.loc(axis=0)[dsmp_idx]"
   ]
  },
  {
   "cell_type": "code",
   "execution_count": null,
   "metadata": {},
   "outputs": [],
   "source": [
    "# some preprocessing on the Word column (only examples for now).\n",
    "\n",
    "\n",
    "# todo: more thorough word processing. Words that are stricly numeric symbols should be represented as a single type\n",
    "# todo: could use regex expressions "
   ]
  },
  {
   "cell_type": "code",
   "execution_count": 12,
   "metadata": {
    "scrolled": true
   },
   "outputs": [
    {
     "name": "stdout",
     "output_type": "stream",
     "text": [
      "['of', 'the', 'and', 'in', 'to', 'with', 'a', 'were', 'was', 'for', 'patients', 'The', 'group', 'or', 'on', 'treatment', 'study', 'at', 'by', 'that', 'is', 'after', 'P', 'as', 'randomized', 'groups', 'not', 'trial', 'an', 'from', '2', 'than', 'significant', 'A', 'placebo', 'between', 'significantly', 'be', 'In', 'compared', '1', 'no', 'RESULTS', 'children', 'this', 'control', 'during', 'therapy', 'p', 'effects', 'months', 'two', 'mg', 'clinical', '3', 'effect', 'had', 'METHODS', 'intervention', 'both', 'more', 'are', 'weeks', 'who', 'but', 'rate', 'This', 'time', 'years', 'blood', 'pain', 'received', 'using', 'cancer', 'mean', 'levels', '4', 'efficacy', '6', '10', 'We', 'results', 'days', 'baseline', 'subjects', 'respectively', 'increased', 'CONCLUSIONS', 'n', 'controlled', 'have', 'total', 'response', 'may', 'women', 'versus', 'associated', 'either', '5', 'randomly', 'dose', 'all', 'difference', 'used', 'disease', '12', 'less', '95', 'treated', 'one', 'use', 'higher', 'risk', 'did', 'There', '?', 'BACKGROUND', 'autism', 'differences', 'To', 'double-blind', 'their', 'showed', 'effective', 'primary', 'has', 'age', 'lower', 'surgery', 'symptoms', 'assigned', 'three', 'which', '0.05', 'survival', 'first', 'CONCLUSION', 'analysis', 'Patients', 'pressure', 'also', 'period', 'been', 'these', 'daily', 'each', 'observed', 'those', 'CI', 'changes', 'follow-up', 'care', 'patient', 'outcome', 'day', 'before', \"'s\", 'increase', 'vs.', 'over', '20', 'without', 'OBJECTIVE', 'test', 'assessed', 'data', 'similar', 'greater', 'vs', 'other', 'reduced', '0.001', 'function', '30', '8', 'when', 'training', 'only', 'receive', 'measured', 'activity', 'found', 'performed', 'reduction', 'acute', 'oral', 'rates', 'plasma', '24', 'safety', 'studies', 'can', 'improvement', 'exercise', 'there', 'per', 'given', 'into', 'change', 'high', 'scores', 'evaluated', 'different', 'chemotherapy', 'participants', 'plus', 'randomised', 'well', 'prospective', 'improved', 'among', 'included', 'adverse', 'outcomes', 'No', 'drug', 'postoperative', 'placebo-controlled', 'combination', 'events', 'administration', 'following', 'decreased', 'low', 'measures', 'evaluate', 'However', 'number', 'heart', 'receiving', 'Group', 'alone', 'serum', 'whether', 'hours', 'chronic', 'reported', 'week', 'score', 'B', 'level', 'AND', 'we', 'incidence', 'arm', '50', 'doses', 'overall', 'statistically', 'end', '15', 'median', 'it', \"'\", 'standard', 'These', 'min', 'duration', 'health', 'determine', 'administered', 'After', '0.01', 'weight', 'acid', 'early', 'phase', 'healthy', 'decrease', 'ratio', 'social', 'II', '100', 'most', '40', 'disorder', 'within', '7', 'any', 'quality', 'ASD', 'mm', 'h', 'program', 'combined', 'followed', 'All', 'better', 'four', 'compare', 'concentrations', 'C', 'conducted', 'suggest', 'coronary', 'failure', 'will', 'could', 'undergoing', 'breast', 'single', 'interval', 'while', 'men', 'At', 'severe', 'performance', 'improve', 'assess', 'type', 'range', 'infusion', 'active', 'bone', 'trials', 'comparison', 'findings', 'effectiveness', '60', 'including', '18', '25', 'body', '+', '14', 'year', 'DESIGN', 'factors', 'status', 'addition', 'parameters', 'cell', 'occurred', 'physical', 'cases', 'completed', 'life', 'insulin', 'values', 'positive', 'its', 'spectrum', 'adults', 'loss', 'present', 'normal', 'support', 'system', 'studied', 'times', 'diet', '16', '9', 'enrolled', 'hospital', 'index', 'long-term', 'new', 'I', 'evidence', 'complications', 'factor', 'management', 'intravenous', 'demonstrated', 'design', 'treatments', 'confidence', 'myocardial', 'same', 'disorders', 'percent', 'reduce', 'behavior', 'concentration', 'side', 'mortality', 'minutes', 'conventional', 'aim', 'cardiovascular', 'based', 'cardiac', 'related', 'controls', 'further', 'syndrome', 'benefit', 'up', 'glucose', 'stage', 'volume', 'human', 'scale', 'under', 'if', 'responses', 'intake', 'therapeutic', 'population', 'whereas', 'evaluation', '0', 'injection', '11', 'It', 'examined', 'about', 'aged', 'second', 'visual', 'every', 'moderate', 'infection', 'anesthesia', 'depression', 'frequency', 'due', 'least', 'such', 'Both', 'major', 'six', 'initial', 'regimen', 'investigate', 'crossover', 'skills', 'ventricular', 'assessment', 'obtained', 'they', 'autistic', 'clinically', 'model', 'experimental', 'condition', 'bleeding', 'recorded', 'advanced', 'interventions', 'through', 'relative', 'infants', 'protein', 'screening', 'drugs', 'impact', 'Clinical', 'III', 'common', 'supplementation', 'determined', 'diabetes', 'anxiety', 'surgical', 'hypertension', 'sleep', 'prevention', 'method', 'mg/kg', 'out', 'additional', 'potential', '13', 'induction', 'investigated', 'functional', 'Treatment', 'artery', 'individuals', 'then', 'volunteers', 'conditions', 'technique', 'One', 'PURPOSE', 'left', 'should', 'secondary', 'shown', 'achieved', 'tolerated', 'mg/day', 'some', 'protocol', 'medication', 'severity', 'twice', 'tumor', 'Study', 'Scale', 'exposure', 'negative', 'For', 'Although', '90', 'criteria', 'developed', '0.0001', 'general', 'recovery', 'important', 'resulted', 'information', 'cells', 'underwent', 'progression', 'complete', 'cognitive', 'safe', 'Of', 'recurrence', 'required', 'flow', 'measure', '28', 'average', 'role', 'prior', 'dietary', 'lung', 'local', 'mild', 'variables', 'characteristics', 'research', 'Our', 'tests', '48', 'arterial', 'five', 'death', 'likely', 'approach', 'renal', '21', 'stroke', 'procedure', 'designed', 'however', 'education', 'development', 'longer', 'cholesterol', 'Results', 'stress', 'reducing', 'does', 'increases', 'sessions', 'comparable', 'medical', 'our', 'samples', 'vitamin', 'superior', 'behavioral', 'allocated', 'sodium', 'once', 'skin', 'objective', '17', '0.5', 'x', 'points', 'size', 'sensitivity', 'carcinoma', 'hundred', 'toxicity', 'diagnosis', 'seen', 'area', 'OBJECTIVES', 'expression', 'mass', 'g', 'gastric', 'interaction', 'sample', 'because', 'need', 'influence', 'according', 'kg', 'Children', 'small', 'SD', 'increasing', 'value', 'vaccine', 'comparing', 'regression', 'analgesia', 'muscle', '80', 'infarction', 'prostate', 'experienced', 'point', 'young', 'being', '--', 'Participants', 'analyses', 'BP', 'month', 'systemic', 'multicenter', 'target', 'divided', 'inhibitor', 'Effect', 'show', 'ability', 'PATIENTS', 'male', 'saline', 'would', 'provide', 'SETTING', 'older', '36', 'pilot', 'D', 'maintenance', 'resistance', 'eyes', 'considered', 'independent', 'specific', 'attention', 'radiotherapy', 'analyzed', 'child', 'practice', 'stimulation', 'beneficial', 'possible', 'During', 'pulmonary', 'improvements', 'tested', '200', 'collected', 'regimens', 'indicated', 'calcium', 'relief', 'symptom', 'urinary', 'risperidone', '22', 'ml', 'Randomized', 'induced', 'purpose', 'methods', 'grade', 'communication', 'motor', 'hormone', 'Two', 'remission', 'Effects', 'receptor', 'parents', '45', 'current', 'report', 'continuous', 'proportion', 'affect', 'defined', 'lesions', 'central', 'previous', '75', 'HR', 'IV', 'course', 'contrast', 'strength', 'result', 'growth', 'intensity', 'testing', '0.02', 'T', 'large', 'needed', 'liver', 'systolic', 'arms', 'provided', 'home', 'solution', 'previously', 'fat', 'An', 'stable', 'asthma', '-1', 'maximum', '23', 'profile', 'satisfaction', 'open', 'order', 'smoking', 'against', 'examine', 'language', 'percentage', 'tissue', 'oxygen', 'multiple', 'individual', 'terms', 'knowledge', 'Hg', 'analgesic', 'peak', '26', '19', 'relationship', 'delivery', 'improves', 'although', '.001', 'limited', '35', 'measurements', 'indicate', 'agent', 'differ', 'Mean', 'produced', 'weekly', 'joint', 'might', 'laser', 'remained', 'behaviors', 'knee', 'metabolic', '70', 'adjuvant', 'endpoint', 'diastolic', 'procedures', 'lipid', 'parent', 'reduces', 'functioning', 'correlated', 'infections', 'agents', 'markers', 'via', 'METHOD', '2.5', 'propofol', 'N', 'MAIN', 'respiratory', 'brain', 'adolescents', 'Autism', 'diagnosed', 'cost', 'consecutive', 'pregnancy', 'often', 'task', 'hip', 'and/or', 'nasal', 'inflammatory', 'cycles', 'made', 'resection', 'atrial', 'benefits', 'intensive', 'Comparison', 'short-term', 'adult', 'platelet', 'part', 'revealed', 'across', 'problems', 'colorectal', 'intervals', 'participated', 'operation', 'Trial', 'diabetic', 'bypass', 'applied', 'inhibition', 'aspirin', 'maintained', 'length', 'until', 'injury', 'improving', 'repeated', 'symptomatic', 'application', 'tolerability', 'peripheral', 'metastatic', 'available', '-', 'free', 'statistical', 'presence', 'monitoring', '29', 'venous', 'r', 'selected', 'Subjects', 'hypertensive', 'stay', 'main', 'random', 'setting', 'energy', 'density', 'nausea', 'detected', 'consumption', 'mmHg', 'onset', 'alternative', 'mg/m', 'serious', 'strategies', 'questionnaire', 'rehabilitation', 'vascular', 'On', 'female', 'identified', '.05', 'association', 'experience', '32', 'aimed', 'costs', 'later', 'fatigue', 'recruited', 'topical', '27', 'blind', '31', 'containing', 'block', 'degrees', 'noted', 'good', 'eye', 'relapse', '42', 'conclusion', '33', 'open-label', 'taken', 'ventilation', 'action', 'periods', 'laparoscopic', 'useful', 'estimated', 'sites', 'pylori', 'hazard', 'prophylaxis', 'morphine', 'discharge', 'carried', 'elderly', 'double', 'abdominal', 'conclude', 'highly', 'seven', 'd', '300', 'cycle', 'oil', 'state', 'history', 'known', 'heparin', '1.5', 'eight', 'usual', 'dysfunction', 'morbidity', 'even', 'sustained', 'affected', 'injections', 'OR', 'direct', '400', 'TRIAL', 'confirmed', 'hypothesis', '38', 'therefore', 'recurrent', 'decreases', '500', 'mental', 'Among', 'very', 'case', 'lidocaine', 'work', 'Data', 'diagnostic', 'larger', 'bupivacaine', 'postmenopausal', 'provides', 'gain', 'CT', 'degree', 'back', 'suggested', 'mg/d', 'prevent', 'sex', 'anaesthesia', 'Compared', 'capacity', 'episodes', 'models', 'production', 'preoperative', 'immediately', 'third', 'E', 'regarding', 'suggests', 'significance', 'correlation', 'approximately', 'gastrointestinal', 'poor', 'activation', 'laboratory', 'techniques', 'shorter', 's', 'Secondary', 'release', 'signs', 'impairment', 'hepatitis', 'REGISTRATION', 'developmental', 'radiation', 'Overall', 'healing', 'S', 'modified', 'spinal', 'reductions', 'success', 'lipoprotein', 'fewer', 'vomiting', 'examination', 'assessments', 'They', 'With', 'epidural', 'subsequent']\n"
     ]
    }
   ],
   "source": [
    "# importing the counts.\n",
    "counts = pd.read_csv('data/raw_vocab.csv', index_col=0)\n",
    "\n",
    "vocab = counts.index.to_list()\n",
    "filtered_chars = ['.',',','(',')','%', '=', ';', ':', '<', '>', '+/-', '[',']',] # improve with re syntax\n",
    "\n",
    "# looks like these chars should already be filtered/replaced earlier in the ground truth dataset.\n",
    "# perhaps some of the chars should be left unmodified? %, =?\n",
    "\n",
    "# very interesting words, anyway.\n",
    "\n",
    "print([w for w in vocab[:1000] if w not in filtered_chars])"
   ]
  },
  {
   "cell_type": "code",
   "execution_count": null,
   "metadata": {},
   "outputs": [],
   "source": [
    "# create word embeddings"
   ]
  }
 ],
 "metadata": {
  "kernelspec": {
   "display_name": "Python 3",
   "language": "python",
   "name": "python3"
  },
  "language_info": {
   "codemirror_mode": {
    "name": "ipython",
    "version": 3
   },
   "file_extension": ".py",
   "mimetype": "text/x-python",
   "name": "python",
   "nbconvert_exporter": "python",
   "pygments_lexer": "ipython3",
   "version": "3.7.3"
  }
 },
 "nbformat": 4,
 "nbformat_minor": 2
}
