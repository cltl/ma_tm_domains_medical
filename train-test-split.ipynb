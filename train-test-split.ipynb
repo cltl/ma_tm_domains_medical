{
 "cells": [
  {
   "cell_type": "code",
   "execution_count": 1,
   "metadata": {
    "hideCode": false,
    "hidePrompt": false,
    "hide_input": false,
    "scrolled": true
   },
   "outputs": [
    {
     "name": "stdout",
     "output_type": "stream",
     "text": [
      "Requirement already satisfied: jupyternotify in c:\\users\\tommy\\anaconda3\\lib\\site-packages (0.1.15)\n",
      "Requirement already satisfied: jupyter in c:\\users\\tommy\\anaconda3\\lib\\site-packages (from jupyternotify) (1.0.0)\n",
      "Requirement already satisfied: ipython in c:\\users\\tommy\\anaconda3\\lib\\site-packages (from jupyternotify) (7.4.0)\n",
      "Requirement already satisfied: ipykernel in c:\\users\\tommy\\anaconda3\\lib\\site-packages (from jupyter->jupyternotify) (5.1.0)\n",
      "Requirement already satisfied: qtconsole in c:\\users\\tommy\\anaconda3\\lib\\site-packages (from jupyter->jupyternotify) (4.6.0)\n",
      "Requirement already satisfied: notebook in c:\\users\\tommy\\anaconda3\\lib\\site-packages (from jupyter->jupyternotify) (5.7.8)\n",
      "Requirement already satisfied: ipywidgets in c:\\users\\tommy\\anaconda3\\lib\\site-packages (from jupyter->jupyternotify) (7.5.1)\n",
      "Requirement already satisfied: nbconvert in c:\\users\\tommy\\anaconda3\\lib\\site-packages (from jupyter->jupyternotify) (5.4.1)\n",
      "Requirement already satisfied: jupyter-console in c:\\users\\tommy\\anaconda3\\lib\\site-packages (from jupyter->jupyternotify) (6.0.0)\n",
      "Requirement already satisfied: backcall in c:\\users\\tommy\\anaconda3\\lib\\site-packages (from ipython->jupyternotify) (0.1.0)\n",
      "Requirement already satisfied: setuptools>=18.5 in c:\\users\\tommy\\anaconda3\\lib\\site-packages (from ipython->jupyternotify) (45.1.0)\n",
      "Requirement already satisfied: traitlets>=4.2 in c:\\users\\tommy\\anaconda3\\lib\\site-packages (from ipython->jupyternotify) (4.3.3)\n",
      "Requirement already satisfied: jedi>=0.10 in c:\\users\\tommy\\anaconda3\\lib\\site-packages (from ipython->jupyternotify) (0.14.1)\n",
      "Requirement already satisfied: colorama; sys_platform == \"win32\" in c:\\users\\tommy\\anaconda3\\lib\\site-packages (from ipython->jupyternotify) (0.4.1)\n",
      "Requirement already satisfied: pygments in c:\\users\\tommy\\anaconda3\\lib\\site-packages (from ipython->jupyternotify) (2.5.2)\n",
      "Requirement already satisfied: decorator in c:\\users\\tommy\\anaconda3\\lib\\site-packages (from ipython->jupyternotify) (4.4.1)\n",
      "Requirement already satisfied: prompt-toolkit<2.1.0,>=2.0.0 in c:\\users\\tommy\\anaconda3\\lib\\site-packages (from ipython->jupyternotify) (2.0.10)\n",
      "Requirement already satisfied: pickleshare in c:\\users\\tommy\\anaconda3\\lib\\site-packages (from ipython->jupyternotify) (0.7.5)\n",
      "Requirement already satisfied: tornado>=4.2 in c:\\users\\tommy\\anaconda3\\lib\\site-packages (from ipykernel->jupyter->jupyternotify) (6.0.3)\n",
      "Requirement already satisfied: jupyter-client in c:\\users\\tommy\\anaconda3\\lib\\site-packages (from ipykernel->jupyter->jupyternotify) (5.3.4)\n",
      "Requirement already satisfied: jupyter-core in c:\\users\\tommy\\anaconda3\\lib\\site-packages (from qtconsole->jupyter->jupyternotify) (4.6.1)\n",
      "Requirement already satisfied: ipython-genutils in c:\\users\\tommy\\anaconda3\\lib\\site-packages (from qtconsole->jupyter->jupyternotify) (0.2.0)\n",
      "Requirement already satisfied: Send2Trash in c:\\users\\tommy\\anaconda3\\lib\\site-packages (from notebook->jupyter->jupyternotify) (1.5.0)\n",
      "Requirement already satisfied: jinja2 in c:\\users\\tommy\\anaconda3\\lib\\site-packages (from notebook->jupyter->jupyternotify) (2.10)\n",
      "Requirement already satisfied: prometheus-client in c:\\users\\tommy\\anaconda3\\lib\\site-packages (from notebook->jupyter->jupyternotify) (0.7.1)\n",
      "Requirement already satisfied: nbformat in c:\\users\\tommy\\anaconda3\\lib\\site-packages (from notebook->jupyter->jupyternotify) (4.4.0)\n",
      "Requirement already satisfied: terminado>=0.8.1 in c:\\users\\tommy\\anaconda3\\lib\\site-packages (from notebook->jupyter->jupyternotify) (0.8.1)\n",
      "Requirement already satisfied: pyzmq>=17 in c:\\users\\tommy\\anaconda3\\lib\\site-packages (from notebook->jupyter->jupyternotify) (18.1.1)\n",
      "Requirement already satisfied: widgetsnbextension~=3.5.0 in c:\\users\\tommy\\anaconda3\\lib\\site-packages (from ipywidgets->jupyter->jupyternotify) (3.5.1)\n",
      "Requirement already satisfied: mistune>=0.8.1 in c:\\users\\tommy\\anaconda3\\lib\\site-packages (from nbconvert->jupyter->jupyternotify) (0.8.4)\n",
      "Requirement already satisfied: entrypoints>=0.2.2 in c:\\users\\tommy\\anaconda3\\lib\\site-packages (from nbconvert->jupyter->jupyternotify) (0.3)\n",
      "Requirement already satisfied: bleach in c:\\users\\tommy\\anaconda3\\lib\\site-packages (from nbconvert->jupyter->jupyternotify) (3.1.0)\n",
      "Requirement already satisfied: pandocfilters>=1.4.1 in c:\\users\\tommy\\anaconda3\\lib\\site-packages (from nbconvert->jupyter->jupyternotify) (1.4.2)\n",
      "Requirement already satisfied: testpath in c:\\users\\tommy\\anaconda3\\lib\\site-packages (from nbconvert->jupyter->jupyternotify) (0.4.4)\n",
      "Requirement already satisfied: defusedxml in c:\\users\\tommy\\anaconda3\\lib\\site-packages (from nbconvert->jupyter->jupyternotify) (0.5.0)\n",
      "Requirement already satisfied: six in c:\\users\\tommy\\anaconda3\\lib\\site-packages (from traitlets>=4.2->ipython->jupyternotify) (1.14.0)\n",
      "Requirement already satisfied: parso>=0.5.0 in c:\\users\\tommy\\anaconda3\\lib\\site-packages (from jedi>=0.10->ipython->jupyternotify) (0.5.2)\n",
      "Requirement already satisfied: wcwidth in c:\\users\\tommy\\anaconda3\\lib\\site-packages (from prompt-toolkit<2.1.0,>=2.0.0->ipython->jupyternotify) (0.1.8)\n",
      "Requirement already satisfied: python-dateutil>=2.1 in c:\\users\\tommy\\anaconda3\\lib\\site-packages (from jupyter-client->ipykernel->jupyter->jupyternotify) (2.8.1)\n",
      "Requirement already satisfied: pywin32>=1.0; sys_platform == \"win32\" in c:\\users\\tommy\\anaconda3\\lib\\site-packages (from jupyter-client->ipykernel->jupyter->jupyternotify) (227)\n",
      "Requirement already satisfied: MarkupSafe>=0.23 in c:\\users\\tommy\\anaconda3\\lib\\site-packages (from jinja2->notebook->jupyter->jupyternotify) (1.1.1)\n",
      "Requirement already satisfied: jsonschema!=2.5.0,>=2.4 in c:\\users\\tommy\\anaconda3\\lib\\site-packages (from nbformat->notebook->jupyter->jupyternotify) (3.0.1)\n",
      "Requirement already satisfied: webencodings in c:\\users\\tommy\\anaconda3\\lib\\site-packages (from bleach->nbconvert->jupyter->jupyternotify) (0.5.1)\n",
      "Requirement already satisfied: attrs>=17.4.0 in c:\\users\\tommy\\anaconda3\\lib\\site-packages (from jsonschema!=2.5.0,>=2.4->nbformat->notebook->jupyter->jupyternotify) (19.3.0)\n",
      "Requirement already satisfied: pyrsistent>=0.14.0 in c:\\users\\tommy\\anaconda3\\lib\\site-packages (from jsonschema!=2.5.0,>=2.4->nbformat->notebook->jupyter->jupyternotify) (0.15.7)\n"
     ]
    },
    {
     "name": "stderr",
     "output_type": "stream",
     "text": [
      "Error processing line 7 of c:\\users\\tommy\\anaconda3\\lib\\site-packages\\pywin32.pth:\n",
      "\n",
      "  Traceback (most recent call last):\n",
      "    File \"c:\\users\\tommy\\anaconda3\\lib\\site.py\", line 168, in addpackage\n",
      "      exec(line)\n",
      "    File \"<string>\", line 1, in <module>\n",
      "  ModuleNotFoundError: No module named 'pywin32_bootstrap'\n",
      "\n",
      "Remainder of file ignored\n"
     ]
    },
    {
     "data": {
      "application/javascript": [
       "if (!(\"Notification\" in window)) {\n",
       "    alert(\"This browser does not support desktop notifications, so the %%notify magic will not work.\");\n",
       "} else if (Notification.permission !== 'granted' && Notification.permission !== 'denied') {\n",
       "    Notification.requestPermission(function (permission) {\n",
       "        if(!('permission' in Notification)) {\n",
       "            Notification.permission = permission;\n",
       "        }\n",
       "    })\n",
       "}\n"
      ],
      "text/plain": [
       "<IPython.core.display.Javascript object>"
      ]
     },
     "metadata": {},
     "output_type": "display_data"
    }
   ],
   "source": [
    "import random\n",
    "from pathlib import Path\n",
    "import numpy as np\n",
    "import pandas as pd\n",
    "from pandas.api.types import is_string_dtype\n",
    "from pandas.api.types import is_numeric_dtype\n",
    "from sklearn.model_selection import train_test_split\n",
    "\n",
    "SEED = np.random.seed(0)\n",
    "DATA = Path('data')\n",
    "TARGETS = ['participants', 'interventions', 'outcomes']\n",
    "SUBSET = 'Train' # 'Test'\n",
    "N_TRAIN_DOCS = 4500\n",
    "SAVE_LOC = Path('data/split')\n",
    "\n",
    "SAVE_LOC.mkdir(exist_ok=True, parents=True)\n",
    "\n",
    "%load_ext jupyternotify"
   ]
  },
  {
   "cell_type": "markdown",
   "metadata": {
    "hideCode": false,
    "hidePrompt": false
   },
   "source": [
    "# Load feature set and labels"
   ]
  },
  {
   "cell_type": "code",
   "execution_count": 2,
   "metadata": {
    "hideCode": false,
    "hidePrompt": false
   },
   "outputs": [
    {
     "name": "stdout",
     "output_type": "stream",
     "text": [
      "Loading feature set from data\\features\\base.pkl, data\\features\\pubmedFT.pkl, data\\features\\pos.pkl\n",
      "Loading labels from data\\raw\\labels.pkl\n",
      "Data load complete.\n"
     ]
    }
   ],
   "source": [
    "FEATURES = ['base', 'pubmedFT', 'pos'] # 'rawFT', 'clust' // base not needed?\n",
    "feat_paths = [f'data\\\\features\\\\{feature}.pkl' for feature in FEATURES]\n",
    "labels_path = DATA / 'raw' / 'labels.pkl'\n",
    "\n",
    "print(f\"Loading feature set from {', '.join(feat_paths)}\")\n",
    "feats_in = pd.concat([pd.read_pickle(path) for path in feat_paths], axis=1)\n",
    "      \n",
    "print(f'Loading labels from {labels_path}')\n",
    "labels_in = pd.read_pickle(labels_path)\n",
    "      \n",
    "# data_mem = sum(sys.getsizeof(i) for i in [X,y]) # slow command\n",
    "# print(f'Loaded {data_mem / (10**9)} GB')\n",
    "\n",
    "data = pd.concat([feats_in.drop('Word',axis=1), labels_in],axis=1)\n",
    "\n",
    "assert not data.columns.duplicated().any()\n",
    "      \n",
    "print('Data load complete.')"
   ]
  },
  {
   "cell_type": "markdown",
   "metadata": {
    "hideCode": false,
    "hidePrompt": false
   },
   "source": [
    "# Train/Test split"
   ]
  },
  {
   "cell_type": "markdown",
   "metadata": {
    "hideCode": false,
    "hidePrompt": false
   },
   "source": [
    "Withhold part of the data for evaluation. Create a script for this."
   ]
  },
  {
   "cell_type": "code",
   "execution_count": 3,
   "metadata": {
    "hideCode": false,
    "hidePrompt": false,
    "scrolled": false
   },
   "outputs": [
    {
     "data": {
      "application/javascript": [
       "$(document).ready(\n",
       "    function() {\n",
       "        function appendUniqueDiv(){\n",
       "            // append a div with our uuid so we can check that it's already\n",
       "            // been sent and avoid duplicates on page reload\n",
       "            var notifiedDiv = document.createElement(\"div\")\n",
       "            notifiedDiv.id = \"91580cc0-5119-46aa-b215-24dc673d02e0\"\n",
       "            element.append(notifiedDiv)\n",
       "        }\n",
       "\n",
       "        // only send notifications if the pageload is complete; this will\n",
       "        // help stop extra notifications when a saved notebook is loaded,\n",
       "        // which during testing gives us state \"interactive\", not \"complete\"\n",
       "        if (document.readyState === 'complete') {\n",
       "            // check for the div that signifies that the notification\n",
       "            // was already sent\n",
       "            if (document.getElementById(\"91580cc0-5119-46aa-b215-24dc673d02e0\") === null) {\n",
       "                var notificationPayload = {\"requireInteraction\": false, \"icon\": \"/static/base/images/favicon.ico\", \"body\": \"Cell execution has finished!\"};\n",
       "                if (Notification.permission !== 'denied') {\n",
       "                    if (Notification.permission !== 'granted') { \n",
       "                        Notification.requestPermission(function (permission) {\n",
       "                            if(!('permission' in Notification)) {\n",
       "                                Notification.permission = permission\n",
       "                            }\n",
       "                        })\n",
       "                    }\n",
       "                    if (Notification.permission === 'granted') {\n",
       "                    var notification = new Notification(\"Jupyter Notebook\", notificationPayload)\n",
       "                    appendUniqueDiv()\n",
       "                    notification.onclick = function () {\n",
       "                        window.focus();\n",
       "                        this.close();\n",
       "                        };\n",
       "                    } \n",
       "                }     \n",
       "            }\n",
       "        }\n",
       "    }\n",
       ")\n"
      ],
      "text/plain": [
       "<IPython.core.display.Javascript object>"
      ]
     },
     "metadata": {},
     "output_type": "display_data"
    }
   ],
   "source": [
    "%%notify\n",
    "\n",
    "feats = [col for col in data.columns if col not in TARGETS]\n",
    "targets = TARGETS\n",
    "hold_size = 10 # 493\n",
    "k_folds = 5 # only simulated for now\n",
    "\n",
    "doc_ids = list(data.index.unique(level='doc'))\n",
    "\n",
    "train_val_idx, hold_idx = train_test_split(doc_ids, train_size=N_TRAIN_DOCS, test_size=hold_size)\n",
    "\n",
    "word = data\n",
    "test_hold = data.loc[(hold_idx, slice(None)),:] # slow; comment when testing\n",
    "train_val = data.loc[(train_val_idx, slice(None)),:]"
   ]
  },
  {
   "cell_type": "markdown",
   "metadata": {
    "hideCode": false,
    "hidePrompt": false
   },
   "source": [
    "Hotcode any numerical columns. Note that this may not be the preferred format for all models (for example, Keras can generate sparser embeddings for many-level categorical variables), so skip this step if you do not want a hotcoded dataset."
   ]
  },
  {
   "cell_type": "code",
   "execution_count": 4,
   "metadata": {
    "hideCode": false,
    "hidePrompt": false,
    "scrolled": true
   },
   "outputs": [
    {
     "name": "stdout",
     "output_type": "stream",
     "text": [
      "hotcoding categorical columns...\n",
      "set()\n",
      "No categorical values found in data\n"
     ]
    },
    {
     "data": {
      "application/javascript": [
       "$(document).ready(\n",
       "    function() {\n",
       "        function appendUniqueDiv(){\n",
       "            // append a div with our uuid so we can check that it's already\n",
       "            // been sent and avoid duplicates on page reload\n",
       "            var notifiedDiv = document.createElement(\"div\")\n",
       "            notifiedDiv.id = \"f06e746f-0751-4347-b663-97512774ffdd\"\n",
       "            element.append(notifiedDiv)\n",
       "        }\n",
       "\n",
       "        // only send notifications if the pageload is complete; this will\n",
       "        // help stop extra notifications when a saved notebook is loaded,\n",
       "        // which during testing gives us state \"interactive\", not \"complete\"\n",
       "        if (document.readyState === 'complete') {\n",
       "            // check for the div that signifies that the notification\n",
       "            // was already sent\n",
       "            if (document.getElementById(\"f06e746f-0751-4347-b663-97512774ffdd\") === null) {\n",
       "                var notificationPayload = {\"requireInteraction\": false, \"icon\": \"/static/base/images/favicon.ico\", \"body\": \"Cell execution has finished!\"};\n",
       "                if (Notification.permission !== 'denied') {\n",
       "                    if (Notification.permission !== 'granted') { \n",
       "                        Notification.requestPermission(function (permission) {\n",
       "                            if(!('permission' in Notification)) {\n",
       "                                Notification.permission = permission\n",
       "                            }\n",
       "                        })\n",
       "                    }\n",
       "                    if (Notification.permission === 'granted') {\n",
       "                    var notification = new Notification(\"Jupyter Notebook\", notificationPayload)\n",
       "                    appendUniqueDiv()\n",
       "                    notification.onclick = function () {\n",
       "                        window.focus();\n",
       "                        this.close();\n",
       "                        };\n",
       "                    } \n",
       "                }     \n",
       "            }\n",
       "        }\n",
       "    }\n",
       ")\n"
      ],
      "text/plain": [
       "<IPython.core.display.Javascript object>"
      ]
     },
     "metadata": {},
     "output_type": "display_data"
    }
   ],
   "source": [
    "%%notify\n",
    "\n",
    "def hotcode(df):\n",
    "    \n",
    "\n",
    "    num_cols = df._get_numeric_data().columns\n",
    "    cat_cols = (set(df.columns) - set(num_cols)) - {'Word'}\n",
    "    \n",
    "    print(cat_cols)\n",
    "    dummies = pd.get_dummies(df[cat_cols])\n",
    "    \n",
    "    print('hotcode complete.')\n",
    "    # assert check that type is numeric for all\n",
    "    \n",
    "    return pd.concat([dummies, df[num_cols]], axis=1)\n",
    "\n",
    "print('hotcoding categorical columns...')\n",
    "try:\n",
    "    train_val = hotcode(train_val)\n",
    "except ValueError:\n",
    "    print('No categorical values found in data')"
   ]
  },
  {
   "cell_type": "markdown",
   "metadata": {},
   "source": [
    "Sample a subset of the indices to downsample the data. This is useful if you need to work on a computer with less memory or want to train faster on a smaller dataset."
   ]
  },
  {
   "cell_type": "code",
   "execution_count": 5,
   "metadata": {},
   "outputs": [],
   "source": [
    "n_docs = 1000\n",
    "\n",
    "doc_ids = data.index.unique('doc').values.tolist()\n",
    "ds = random.sample(doc_ids, n_docs)\n",
    "train_ds = train_val.loc[(ds,slice(None)),:]"
   ]
  },
  {
   "cell_type": "markdown",
   "metadata": {},
   "source": [
    "Make the required directories and save the data."
   ]
  },
  {
   "cell_type": "code",
   "execution_count": 12,
   "metadata": {
    "scrolled": true
   },
   "outputs": [],
   "source": [
    "train_val.to_parquet(SAVE_LOC / 'train.parquet') # add mkdir\n",
    "test_hold.to_parquet(SAVE_LOC / 'test.parquet')\n",
    "\n",
    "train_ds.to_parquet(SAVE_LOC / f'train_{n_docs}.parquet')"
   ]
  },
  {
   "cell_type": "markdown",
   "metadata": {},
   "source": [
    "# Data saving for Clusterings (temporary)"
   ]
  },
  {
   "cell_type": "code",
   "execution_count": 7,
   "metadata": {},
   "outputs": [],
   "source": [
    "x = [pd.read_parquet(f'data\\\\features\\\\PubMed_{k}_10x300.parquet') for k in [4,8,12]]"
   ]
  },
  {
   "cell_type": "code",
   "execution_count": 9,
   "metadata": {},
   "outputs": [],
   "source": [
    "x = pd.concat(x, axis=1)"
   ]
  },
  {
   "cell_type": "code",
   "execution_count": 11,
   "metadata": {},
   "outputs": [],
   "source": [
    "lags = [-2,-1,1,2]\n",
    "for k in [4,8,12]:\n",
    "    for lag in lags:\n",
    "        method = 'bfill' if lag > 0 else 'ffill'\n",
    "        \n",
    "        key = f'knn_{k}_lag_{str(lag)}'\n",
    "        \n",
    "        x[key] = x[f'knn_{k}'].groupby('doc').shift(lag).fillna(method=method)"
   ]
  },
  {
   "cell_type": "code",
   "execution_count": 16,
   "metadata": {},
   "outputs": [
    {
     "data": {
      "text/html": [
       "<div>\n",
       "<style scoped>\n",
       "    .dataframe tbody tr th:only-of-type {\n",
       "        vertical-align: middle;\n",
       "    }\n",
       "\n",
       "    .dataframe tbody tr th {\n",
       "        vertical-align: top;\n",
       "    }\n",
       "\n",
       "    .dataframe thead th {\n",
       "        text-align: right;\n",
       "    }\n",
       "</style>\n",
       "<table border=\"1\" class=\"dataframe\">\n",
       "  <thead>\n",
       "    <tr style=\"text-align: right;\">\n",
       "      <th></th>\n",
       "      <th></th>\n",
       "      <th>knn_4</th>\n",
       "      <th>knn_8</th>\n",
       "      <th>knn_12</th>\n",
       "      <th>knn_4_lag_-2</th>\n",
       "      <th>knn_4_lag_-1</th>\n",
       "      <th>knn_4_lag_1</th>\n",
       "      <th>knn_4_lag_2</th>\n",
       "      <th>knn_8_lag_-2</th>\n",
       "      <th>knn_8_lag_-1</th>\n",
       "      <th>knn_8_lag_1</th>\n",
       "      <th>knn_8_lag_2</th>\n",
       "      <th>knn_12_lag_-2</th>\n",
       "      <th>knn_12_lag_-1</th>\n",
       "      <th>knn_12_lag_1</th>\n",
       "      <th>knn_12_lag_2</th>\n",
       "    </tr>\n",
       "    <tr>\n",
       "      <th>doc</th>\n",
       "      <th>idx</th>\n",
       "      <th></th>\n",
       "      <th></th>\n",
       "      <th></th>\n",
       "      <th></th>\n",
       "      <th></th>\n",
       "      <th></th>\n",
       "      <th></th>\n",
       "      <th></th>\n",
       "      <th></th>\n",
       "      <th></th>\n",
       "      <th></th>\n",
       "      <th></th>\n",
       "      <th></th>\n",
       "      <th></th>\n",
       "      <th></th>\n",
       "    </tr>\n",
       "  </thead>\n",
       "  <tbody>\n",
       "    <tr>\n",
       "      <th rowspan=\"5\" valign=\"top\">10037531</th>\n",
       "      <th>0</th>\n",
       "      <td>0</td>\n",
       "      <td>1</td>\n",
       "      <td>1</td>\n",
       "      <td>2</td>\n",
       "      <td>1</td>\n",
       "      <td>0</td>\n",
       "      <td>0</td>\n",
       "      <td>5</td>\n",
       "      <td>0</td>\n",
       "      <td>1</td>\n",
       "      <td>1</td>\n",
       "      <td>5</td>\n",
       "      <td>0</td>\n",
       "      <td>1</td>\n",
       "      <td>1</td>\n",
       "    </tr>\n",
       "    <tr>\n",
       "      <th>1</th>\n",
       "      <td>1</td>\n",
       "      <td>0</td>\n",
       "      <td>0</td>\n",
       "      <td>1</td>\n",
       "      <td>2</td>\n",
       "      <td>0</td>\n",
       "      <td>0</td>\n",
       "      <td>0</td>\n",
       "      <td>5</td>\n",
       "      <td>1</td>\n",
       "      <td>1</td>\n",
       "      <td>0</td>\n",
       "      <td>5</td>\n",
       "      <td>1</td>\n",
       "      <td>1</td>\n",
       "    </tr>\n",
       "    <tr>\n",
       "      <th>2</th>\n",
       "      <td>2</td>\n",
       "      <td>5</td>\n",
       "      <td>5</td>\n",
       "      <td>2</td>\n",
       "      <td>1</td>\n",
       "      <td>1</td>\n",
       "      <td>0</td>\n",
       "      <td>5</td>\n",
       "      <td>0</td>\n",
       "      <td>0</td>\n",
       "      <td>1</td>\n",
       "      <td>5</td>\n",
       "      <td>0</td>\n",
       "      <td>0</td>\n",
       "      <td>1</td>\n",
       "    </tr>\n",
       "    <tr>\n",
       "      <th>3</th>\n",
       "      <td>1</td>\n",
       "      <td>0</td>\n",
       "      <td>0</td>\n",
       "      <td>2</td>\n",
       "      <td>2</td>\n",
       "      <td>2</td>\n",
       "      <td>1</td>\n",
       "      <td>5</td>\n",
       "      <td>5</td>\n",
       "      <td>5</td>\n",
       "      <td>0</td>\n",
       "      <td>5</td>\n",
       "      <td>5</td>\n",
       "      <td>5</td>\n",
       "      <td>0</td>\n",
       "    </tr>\n",
       "    <tr>\n",
       "      <th>4</th>\n",
       "      <td>2</td>\n",
       "      <td>5</td>\n",
       "      <td>5</td>\n",
       "      <td>1</td>\n",
       "      <td>2</td>\n",
       "      <td>1</td>\n",
       "      <td>2</td>\n",
       "      <td>0</td>\n",
       "      <td>5</td>\n",
       "      <td>0</td>\n",
       "      <td>5</td>\n",
       "      <td>0</td>\n",
       "      <td>5</td>\n",
       "      <td>0</td>\n",
       "      <td>5</td>\n",
       "    </tr>\n",
       "    <tr>\n",
       "      <th>...</th>\n",
       "      <th>...</th>\n",
       "      <td>...</td>\n",
       "      <td>...</td>\n",
       "      <td>...</td>\n",
       "      <td>...</td>\n",
       "      <td>...</td>\n",
       "      <td>...</td>\n",
       "      <td>...</td>\n",
       "      <td>...</td>\n",
       "      <td>...</td>\n",
       "      <td>...</td>\n",
       "      <td>...</td>\n",
       "      <td>...</td>\n",
       "      <td>...</td>\n",
       "      <td>...</td>\n",
       "      <td>...</td>\n",
       "    </tr>\n",
       "    <tr>\n",
       "      <th rowspan=\"5\" valign=\"top\">9989713</th>\n",
       "      <th>289</th>\n",
       "      <td>2</td>\n",
       "      <td>5</td>\n",
       "      <td>5</td>\n",
       "      <td>2</td>\n",
       "      <td>1</td>\n",
       "      <td>1</td>\n",
       "      <td>2</td>\n",
       "      <td>5</td>\n",
       "      <td>4</td>\n",
       "      <td>4</td>\n",
       "      <td>5</td>\n",
       "      <td>5</td>\n",
       "      <td>8</td>\n",
       "      <td>8</td>\n",
       "      <td>5</td>\n",
       "    </tr>\n",
       "    <tr>\n",
       "      <th>290</th>\n",
       "      <td>1</td>\n",
       "      <td>4</td>\n",
       "      <td>8</td>\n",
       "      <td>2</td>\n",
       "      <td>2</td>\n",
       "      <td>2</td>\n",
       "      <td>1</td>\n",
       "      <td>5</td>\n",
       "      <td>5</td>\n",
       "      <td>5</td>\n",
       "      <td>4</td>\n",
       "      <td>5</td>\n",
       "      <td>5</td>\n",
       "      <td>5</td>\n",
       "      <td>8</td>\n",
       "    </tr>\n",
       "    <tr>\n",
       "      <th>291</th>\n",
       "      <td>2</td>\n",
       "      <td>5</td>\n",
       "      <td>5</td>\n",
       "      <td>1</td>\n",
       "      <td>2</td>\n",
       "      <td>1</td>\n",
       "      <td>2</td>\n",
       "      <td>4</td>\n",
       "      <td>5</td>\n",
       "      <td>4</td>\n",
       "      <td>5</td>\n",
       "      <td>4</td>\n",
       "      <td>5</td>\n",
       "      <td>8</td>\n",
       "      <td>5</td>\n",
       "    </tr>\n",
       "    <tr>\n",
       "      <th>292</th>\n",
       "      <td>2</td>\n",
       "      <td>5</td>\n",
       "      <td>5</td>\n",
       "      <td>1</td>\n",
       "      <td>1</td>\n",
       "      <td>2</td>\n",
       "      <td>1</td>\n",
       "      <td>4</td>\n",
       "      <td>4</td>\n",
       "      <td>5</td>\n",
       "      <td>4</td>\n",
       "      <td>4</td>\n",
       "      <td>4</td>\n",
       "      <td>5</td>\n",
       "      <td>8</td>\n",
       "    </tr>\n",
       "    <tr>\n",
       "      <th>293</th>\n",
       "      <td>1</td>\n",
       "      <td>4</td>\n",
       "      <td>4</td>\n",
       "      <td>1</td>\n",
       "      <td>1</td>\n",
       "      <td>2</td>\n",
       "      <td>2</td>\n",
       "      <td>4</td>\n",
       "      <td>4</td>\n",
       "      <td>5</td>\n",
       "      <td>5</td>\n",
       "      <td>4</td>\n",
       "      <td>4</td>\n",
       "      <td>5</td>\n",
       "      <td>5</td>\n",
       "    </tr>\n",
       "  </tbody>\n",
       "</table>\n",
       "<p>1221536 rows × 15 columns</p>\n",
       "</div>"
      ],
      "text/plain": [
       "             knn_4 knn_8 knn_12 knn_4_lag_-2 knn_4_lag_-1 knn_4_lag_1  \\\n",
       "doc      idx                                                            \n",
       "10037531 0       0     1      1            2            1           0   \n",
       "         1       1     0      0            1            2           0   \n",
       "         2       2     5      5            2            1           1   \n",
       "         3       1     0      0            2            2           2   \n",
       "         4       2     5      5            1            2           1   \n",
       "...            ...   ...    ...          ...          ...         ...   \n",
       "9989713  289     2     5      5            2            1           1   \n",
       "         290     1     4      8            2            2           2   \n",
       "         291     2     5      5            1            2           1   \n",
       "         292     2     5      5            1            1           2   \n",
       "         293     1     4      4            1            1           2   \n",
       "\n",
       "             knn_4_lag_2 knn_8_lag_-2 knn_8_lag_-1 knn_8_lag_1 knn_8_lag_2  \\\n",
       "doc      idx                                                                 \n",
       "10037531 0             0            5            0           1           1   \n",
       "         1             0            0            5           1           1   \n",
       "         2             0            5            0           0           1   \n",
       "         3             1            5            5           5           0   \n",
       "         4             2            0            5           0           5   \n",
       "...                  ...          ...          ...         ...         ...   \n",
       "9989713  289           2            5            4           4           5   \n",
       "         290           1            5            5           5           4   \n",
       "         291           2            4            5           4           5   \n",
       "         292           1            4            4           5           4   \n",
       "         293           2            4            4           5           5   \n",
       "\n",
       "             knn_12_lag_-2 knn_12_lag_-1 knn_12_lag_1 knn_12_lag_2  \n",
       "doc      idx                                                        \n",
       "10037531 0               5             0            1            1  \n",
       "         1               0             5            1            1  \n",
       "         2               5             0            0            1  \n",
       "         3               5             5            5            0  \n",
       "         4               0             5            0            5  \n",
       "...                    ...           ...          ...          ...  \n",
       "9989713  289             5             8            8            5  \n",
       "         290             5             5            5            8  \n",
       "         291             4             5            8            5  \n",
       "         292             4             4            5            8  \n",
       "         293             4             4            5            5  \n",
       "\n",
       "[1221536 rows x 15 columns]"
      ]
     },
     "execution_count": 16,
     "metadata": {},
     "output_type": "execute_result"
    }
   ],
   "source": [
    "x = x.astype(int).astype(str)\n",
    "x"
   ]
  },
  {
   "cell_type": "code",
   "execution_count": 17,
   "metadata": {},
   "outputs": [],
   "source": [
    "x = pd.get_dummies(x)"
   ]
  },
  {
   "cell_type": "code",
   "execution_count": 19,
   "metadata": {},
   "outputs": [],
   "source": [
    "x.to_parquet('data/features/km_4-8-12_10x300.parquet')"
   ]
  },
  {
   "cell_type": "markdown",
   "metadata": {},
   "source": [
    "# Create indices for K-fold cross-validation"
   ]
  },
  {
   "cell_type": "markdown",
   "metadata": {},
   "source": [
    "These might be best saved to a file (and loaded by the model scripts) if cluster columns are used, as the kNN should be loaded to fit a prediction on the features when running models, else it will have seen the validation set data. For now, I'll train kNN on a smaller subsample of the text to see if the method has potential."
   ]
  },
  {
   "cell_type": "code",
   "execution_count": null,
   "metadata": {},
   "outputs": [],
   "source": [
    "For now, I'll "
   ]
  }
 ],
 "metadata": {
  "hide_code_all_hidden": false,
  "kernelspec": {
   "display_name": "Python 3",
   "language": "python",
   "name": "python3"
  },
  "language_info": {
   "codemirror_mode": {
    "name": "ipython",
    "version": 3
   },
   "file_extension": ".py",
   "mimetype": "text/x-python",
   "name": "python",
   "nbconvert_exporter": "python",
   "pygments_lexer": "ipython3",
   "version": "3.7.3"
  }
 },
 "nbformat": 4,
 "nbformat_minor": 2
}
