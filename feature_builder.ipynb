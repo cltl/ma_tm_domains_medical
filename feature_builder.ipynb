{
 "cells": [
  {
   "cell_type": "code",
   "execution_count": 1,
   "metadata": {},
   "outputs": [],
   "source": [
    "import random\n",
    "import time\n",
    "import pandas as pd\n",
    "from pathlib import Path\n",
    "from processing.corpus import Corpus\n",
    "\n",
    "DATA_PATH = Path('data\\\\raw\\\\labels.parquet')\n",
    "SAVE_PATH = Path('data\\\\dataset.parquet')\n",
    "SEED = random.seed(0)\n",
    "DOWNSAMPLE = False\n",
    "\n",
    "config = {\n",
    "    'generate_embeddings': False,\n",
    "    'load_embeddings': True,\n",
    "    'load_CoNNL': True,\n",
    "    'load_sentiments': True,\n",
    "    'for_model': 'CRF', # 'Tree'\n",
    "}"
   ]
  },
  {
   "cell_type": "markdown",
   "metadata": {},
   "source": [
    "# Load Corpus"
   ]
  },
  {
   "cell_type": "code",
   "execution_count": 2,
   "metadata": {},
   "outputs": [
    {
     "name": "stdout",
     "output_type": "stream",
     "text": [
      "Indexing sentences for 4993 documents.\n"
     ]
    }
   ],
   "source": [
    "dataset = pd.read_parquet(DATA_PATH)['Word']\n",
    "doc_ids = dataset.index.get_level_values('doc')\n",
    "\n",
    "if DOWNSAMPLE:\n",
    "    n_docs = 25\n",
    "    sample_ids = random.sample(set(doc_ids), n_docs)\n",
    "    data_ds = dataset[doc_ids.isin(sample_ids)].copy()\n",
    "\n",
    "    dataset = data_ds\n",
    "    \n",
    "corpus = Corpus(dataset)"
   ]
  },
  {
   "cell_type": "markdown",
   "metadata": {},
   "source": [
    "# Annotation"
   ]
  },
  {
   "cell_type": "markdown",
   "metadata": {},
   "source": [
    "Add more general features using functionalities built into `Corpus`."
   ]
  },
  {
   "cell_type": "code",
   "execution_count": 3,
   "metadata": {
    "scrolled": true
   },
   "outputs": [
    {
     "name": "stdout",
     "output_type": "stream",
     "text": [
      "Added columns ['add_locators', 'add_stem']\n",
      "<processing.corpus.Corpus object at 0x0000020935DEDFD0>\n",
      "                         token  sent_id  sent_loc      stem  is_upper  \\\n",
      "doc      sent word                                                      \n",
      "10036953 1    1              [        1         1         [     False   \n",
      "              2         Triple        1         2     tripl     False   \n",
      "              3        therapy        1         3   therapi     False   \n",
      "              4       regimens        1         4   regimen     False   \n",
      "              5      involving        1         5    involv     False   \n",
      "...                        ...      ...       ...       ...       ...   \n",
      "9989713  15   21    randomised       15        21  randomis     False   \n",
      "              22             ,       15        22         ,     False   \n",
      "              23      clinical       15        23    clinic     False   \n",
      "              24        trials       15        24     trial     False   \n",
      "              25             .       15        25         .     False   \n",
      "\n",
      "                    is_lower  is_title  near_cap  \n",
      "doc      sent word                                \n",
      "10036953 1    1        False     False      True  \n",
      "              2        False      True      True  \n",
      "              3         True     False      True  \n",
      "              4         True     False      True  \n",
      "              5         True     False      True  \n",
      "...                      ...       ...       ...  \n",
      "9989713  15   21        True     False      True  \n",
      "              22       False     False      True  \n",
      "              23        True     False      True  \n",
      "              24        True     False      True  \n",
      "              25       False     False      True  \n",
      "\n",
      "[1354239 rows x 8 columns]\n",
      "Added columns ['mark_capitals', 'mark_decimal', 'mark_first_last', 'mark_numeric', 'mark_punctuation', 'mark_stopwords']\n",
      "Index(['token', 'sent_id', 'sent_loc', 'stem', 'is_upper', 'is_lower',\n",
      "       'is_title', 'near_cap', 'first_sent', 'last_sent', 'first_word',\n",
      "       'last_word', 'is_int', 'is_dec', 'punctuation', 'stopword'],\n",
      "      dtype='object')\n"
     ]
    }
   ],
   "source": [
    "# add index position information and stemmed token \n",
    "corpus.process(*['add_locators', 'add_stem'])\n",
    "\n",
    "# add binary markers for a variety of token attributes\n",
    "corpus.process('mark_')\n",
    "print(corpus.df.columns)"
   ]
  },
  {
   "cell_type": "markdown",
   "metadata": {},
   "source": [
    "Generate `fasttext` embeddings for the data. This step is very memory-intensive, skip this if you don't have a fast enough system to run it. Once created, the function can load the data from a specified filepath."
   ]
  },
  {
   "cell_type": "code",
   "execution_count": 4,
   "metadata": {},
   "outputs": [
    {
     "name": "stdout",
     "output_type": "stream",
     "text": [
      "Loading FastText embeddings from data\\features\\ft_embeds.parquet.\n",
      "138 remaining after PCA analysis.\n"
     ]
    },
    {
     "data": {
      "image/png": "[encoded data removed]",
      "text/plain": [
       "<Figure size 432x288 with 1 Axes>"
      ]
     },
     "metadata": {
      "needs_background": "light"
     },
     "output_type": "display_data"
    }
   ],
   "source": [
    "if config['generate_embeddings']: \n",
    "    corpus.load_embeddings(model_path='models/ft_models/BioWordVec_PubMed_MIMICIII_d200.bin')\n",
    "elif config['load_embeddings']:\n",
    "    corpus.load_embeddings(file_path='data\\\\features\\\\ft_embeds.parquet')"
   ]
  },
  {
   "cell_type": "markdown",
   "metadata": {},
   "source": [
    "Generate or load the CoNLL data parsed by `stanfordnlp`."
   ]
  },
  {
   "cell_type": "code",
   "execution_count": 5,
   "metadata": {
    "scrolled": true
   },
   "outputs": [
    {
     "name": "stdout",
     "output_type": "stream",
     "text": [
      "Loading CoNLL data from data\\features\\conll.parquet.\n",
      "Warning: 20 missing values detected in data\\features\\conll.parquet. Filling with '_'.\n"
     ]
    }
   ],
   "source": [
    "if config['load_CoNNL']: \n",
    "    corpus.load_CoNLL(file_path='data\\\\features\\\\conll.parquet')\n",
    "    parental_features = ['par_' + col for col in ['token', 'lemma', 'deprel', 'upos', 'xpos']]\n",
    "    corpus.parse_deprel(parental_features)"
   ]
  },
  {
   "cell_type": "code",
   "execution_count": 6,
   "metadata": {},
   "outputs": [],
   "source": [
    "x = pd.read_csv('data\\\\features\\\\conll.csv', sep='\\t', header=None, keep_default_na=False, na_values=None)\n",
    "x.index = corpus.df.index"
   ]
  },
  {
   "cell_type": "markdown",
   "metadata": {},
   "source": [
    "Run a sentiment analysis over the sentences using TextBlob and add the polarity and subjectivity of each token's sentence as a feature."
   ]
  },
  {
   "cell_type": "code",
   "execution_count": 7,
   "metadata": {},
   "outputs": [
    {
     "name": "stdout",
     "output_type": "stream",
     "text": [
      "Running TextBlob sentiment analysis over 1354239 instances.\n"
     ]
    }
   ],
   "source": [
    "if config['load_sentiments']: corpus.load_sentiments()"
   ]
  },
  {
   "cell_type": "markdown",
   "metadata": {},
   "source": [
    "Generate a column for TF-IDF from the lookup table generated during initialization."
   ]
  },
  {
   "cell_type": "code",
   "execution_count": 8,
   "metadata": {},
   "outputs": [],
   "source": [
    "corpus.add_tfidf()\n",
    "\n",
    "assert 'xpos' in corpus.df.columns\n",
    "corpus.add_pos_stem() # add a stemmed version of the CoNNL XPOS (basic grammar info, i.e. NN, VB)"
   ]
  },
  {
   "cell_type": "markdown",
   "metadata": {},
   "source": [
    "Perform some cleaning on the columns and produce some lagged columns that give information about a word's neighbours. Missing values are imputed by various procedures, and shifts are performed on a document level."
   ]
  },
  {
   "cell_type": "code",
   "execution_count": 9,
   "metadata": {},
   "outputs": [
    {
     "data": {
      "text/plain": [
       "<processing.corpus.Corpus at 0x20935dedfd0>"
      ]
     },
     "execution_count": 9,
     "metadata": {},
     "output_type": "execute_result"
    }
   ],
   "source": [
    "# lags\n",
    "window = 2\n",
    "lag_features = ['is_int', 'is_dec', 'first_word', 'last_word', 'form', 'lemma', 'upos', 'xpos', 'deprel', 'tfidf']\n",
    "par_cols = corpus.df.columns[corpus.df.columns.str.startswith('par')]\n",
    "fill_tag = '_' # fill missing strings with a custom value\n",
    "\n",
    "corpus.lag_cols(['is_int', 'is_dec', 'first_word', 'last_word'], window, level='doc', fill_value=False)\n",
    "corpus.lag_cols(['token', 'lemma', 'upos', 'xpos', 'deprel'], window, level='doc', fill_value=fill_tag)\n",
    "corpus.lag_cols(['tfidf'], window, level='doc', fill_value=0.0)"
   ]
  },
  {
   "cell_type": "markdown",
   "metadata": {},
   "source": [
    "# Save"
   ]
  },
  {
   "cell_type": "markdown",
   "metadata": {},
   "source": [
    "We can save the data to various formats directly through `Corpus`. The exported feature table includes the labels in the index (`df.reset_index()['token']`)"
   ]
  },
  {
   "cell_type": "code",
   "execution_count": 10,
   "metadata": {
    "scrolled": true
   },
   "outputs": [
    {
     "name": "stdout",
     "output_type": "stream",
     "text": [
      "features in the final set: \n",
      " ['token', 'sent_id', 'sent_loc', 'stem', 'is_upper', 'is_lower', 'is_title', 'near_cap', 'first_sent', 'last_sent', 'first_word', 'last_word', 'is_int', 'is_dec', 'punctuation', 'stopword', 'PCA_0', 'PCA_1', 'PCA_2', 'PCA_3', 'PCA_4', 'PCA_5', 'PCA_6', 'PCA_7', 'PCA_8', 'PCA_9', 'PCA_10', 'PCA_11', 'PCA_12', 'PCA_13', 'PCA_14', 'PCA_15', 'PCA_16', 'PCA_17', 'PCA_18', 'PCA_19', 'PCA_20', 'PCA_21', 'PCA_22', 'PCA_23', 'PCA_24', 'PCA_25', 'PCA_26', 'PCA_27', 'PCA_28', 'PCA_29', 'PCA_30', 'PCA_31', 'PCA_32', 'PCA_33', 'PCA_34', 'PCA_35', 'PCA_36', 'PCA_37', 'PCA_38', 'PCA_39', 'PCA_40', 'PCA_41', 'PCA_42', 'PCA_43', 'PCA_44', 'PCA_45', 'PCA_46', 'PCA_47', 'PCA_48', 'PCA_49', 'PCA_50', 'PCA_51', 'PCA_52', 'PCA_53', 'PCA_54', 'PCA_55', 'PCA_56', 'PCA_57', 'PCA_58', 'PCA_59', 'PCA_60', 'PCA_61', 'PCA_62', 'PCA_63', 'PCA_64', 'PCA_65', 'PCA_66', 'PCA_67', 'PCA_68', 'PCA_69', 'PCA_70', 'PCA_71', 'PCA_72', 'PCA_73', 'PCA_74', 'PCA_75', 'PCA_76', 'PCA_77', 'PCA_78', 'PCA_79', 'PCA_80', 'PCA_81', 'PCA_82', 'PCA_83', 'PCA_84', 'PCA_85', 'PCA_86', 'PCA_87', 'PCA_88', 'PCA_89', 'PCA_90', 'PCA_91', 'PCA_92', 'PCA_93', 'PCA_94', 'PCA_95', 'PCA_96', 'PCA_97', 'PCA_98', 'PCA_99', 'PCA_100', 'PCA_101', 'PCA_102', 'PCA_103', 'PCA_104', 'PCA_105', 'PCA_106', 'PCA_107', 'PCA_108', 'PCA_109', 'PCA_110', 'PCA_111', 'PCA_112', 'PCA_113', 'PCA_114', 'PCA_115', 'PCA_116', 'PCA_117', 'PCA_118', 'PCA_119', 'PCA_120', 'PCA_121', 'PCA_122', 'PCA_123', 'PCA_124', 'PCA_125', 'PCA_126', 'PCA_127', 'PCA_128', 'PCA_129', 'PCA_130', 'PCA_131', 'PCA_132', 'PCA_133', 'PCA_134', 'PCA_135', 'PCA_136', 'PCA_137', 'lemma', 'upos', 'xpos', 'feats', 'head', 'deprel', 'dist_to_parent', 'par_token', 'par_lemma', 'par_deprel', 'par_upos', 'par_xpos', 'polarity', 'subjectivity', 'tfidf', 'sent_tfidf', 'xpos_stem', 'IS_INT_LAG-2', 'IS_INT_LAG-1', 'IS_INT_LAG1', 'IS_INT_LAG2', 'IS_DEC_LAG-2', 'IS_DEC_LAG-1', 'IS_DEC_LAG1', 'IS_DEC_LAG2', 'FIRST_WORD_LAG-2', 'FIRST_WORD_LAG-1', 'FIRST_WORD_LAG1', 'FIRST_WORD_LAG2', 'LAST_WORD_LAG-2', 'LAST_WORD_LAG-1', 'LAST_WORD_LAG1', 'LAST_WORD_LAG2', 'TOKEN_LAG-2', 'TOKEN_LAG-1', 'TOKEN_LAG1', 'TOKEN_LAG2', 'LEMMA_LAG-2', 'LEMMA_LAG-1', 'LEMMA_LAG1', 'LEMMA_LAG2', 'UPOS_LAG-2', 'UPOS_LAG-1', 'UPOS_LAG1', 'UPOS_LAG2', 'XPOS_LAG-2', 'XPOS_LAG-1', 'XPOS_LAG1', 'XPOS_LAG2', 'DEPREL_LAG-2', 'DEPREL_LAG-1', 'DEPREL_LAG1', 'DEPREL_LAG2', 'TFIDF_LAG-2', 'TFIDF_LAG-1', 'TFIDF_LAG1', 'TFIDF_LAG2']\n"
     ]
    }
   ],
   "source": [
    "print('features in the final set: \\n', list(corpus.df.columns))\n",
    "assert corpus.df.columns.isna().sum().sum() == 0"
   ]
  },
  {
   "cell_type": "code",
   "execution_count": 13,
   "metadata": {},
   "outputs": [],
   "source": [
    "corpus.save(f'data\\\\another.parquet')"
   ]
  },
  {
   "cell_type": "code",
   "execution_count": null,
   "metadata": {},
   "outputs": [],
   "source": []
  }
 ],
 "metadata": {
  "kernelspec": {
   "display_name": "Python 3",
   "language": "python",
   "name": "python3"
  },
  "language_info": {
   "codemirror_mode": {
    "name": "ipython",
    "version": 3
   },
   "file_extension": ".py",
   "mimetype": "text/x-python",
   "name": "python",
   "nbconvert_exporter": "python",
   "pygments_lexer": "ipython3",
   "version": "3.7.3"
  }
 },
 "nbformat": 4,
 "nbformat_minor": 2
}
